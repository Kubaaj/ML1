{
 "cells": [
  {
   "cell_type": "code",
   "execution_count": 1,
   "metadata": {},
   "outputs": [],
   "source": [
    "import pandas as pd"
   ]
  },
  {
   "cell_type": "code",
   "execution_count": 2,
   "metadata": {},
   "outputs": [],
   "source": [
    "dfcars = pd.read_pickle(\"dfcars.p\")"
   ]
  },
  {
   "cell_type": "code",
   "execution_count": 3,
   "metadata": {},
   "outputs": [
    {
     "data": {
      "text/html": [
       "<div>\n",
       "<style scoped>\n",
       "    .dataframe tbody tr th:only-of-type {\n",
       "        vertical-align: middle;\n",
       "    }\n",
       "\n",
       "    .dataframe tbody tr th {\n",
       "        vertical-align: top;\n",
       "    }\n",
       "\n",
       "    .dataframe thead th {\n",
       "        text-align: right;\n",
       "    }\n",
       "</style>\n",
       "<table border=\"1\" class=\"dataframe\">\n",
       "  <thead>\n",
       "    <tr style=\"text-align: right;\">\n",
       "      <th></th>\n",
       "      <th>price</th>\n",
       "      <th>year</th>\n",
       "      <th>manufacturer</th>\n",
       "      <th>make</th>\n",
       "      <th>condition</th>\n",
       "      <th>cylinders</th>\n",
       "      <th>fuel</th>\n",
       "      <th>odometer</th>\n",
       "      <th>title_status</th>\n",
       "      <th>transmission</th>\n",
       "      <th>drive</th>\n",
       "      <th>car_size</th>\n",
       "      <th>car_type</th>\n",
       "      <th>paint_color</th>\n",
       "      <th>lat</th>\n",
       "      <th>long</th>\n",
       "    </tr>\n",
       "  </thead>\n",
       "  <tbody>\n",
       "    <tr>\n",
       "      <th>4</th>\n",
       "      <td>37900</td>\n",
       "      <td>2016.0</td>\n",
       "      <td>1</td>\n",
       "      <td>f350</td>\n",
       "      <td>3.0</td>\n",
       "      <td>8 cylinders</td>\n",
       "      <td>2.0</td>\n",
       "      <td>70500.0</td>\n",
       "      <td>4.0</td>\n",
       "      <td>2.0</td>\n",
       "      <td>2.0</td>\n",
       "      <td>NaN</td>\n",
       "      <td>12.0</td>\n",
       "      <td>11.0</td>\n",
       "      <td>36.272932</td>\n",
       "      <td>-82.537537</td>\n",
       "    </tr>\n",
       "    <tr>\n",
       "      <th>7</th>\n",
       "      <td>5000</td>\n",
       "      <td>2003.0</td>\n",
       "      <td>0</td>\n",
       "      <td>silverado</td>\n",
       "      <td>4.0</td>\n",
       "      <td>8 cylinders</td>\n",
       "      <td>3.0</td>\n",
       "      <td>NaN</td>\n",
       "      <td>4.0</td>\n",
       "      <td>2.0</td>\n",
       "      <td>NaN</td>\n",
       "      <td>NaN</td>\n",
       "      <td>NaN</td>\n",
       "      <td>NaN</td>\n",
       "      <td>36.344500</td>\n",
       "      <td>-82.201500</td>\n",
       "    </tr>\n",
       "    <tr>\n",
       "      <th>9</th>\n",
       "      <td>5950</td>\n",
       "      <td>2003.0</td>\n",
       "      <td>1</td>\n",
       "      <td>expedition</td>\n",
       "      <td>3.0</td>\n",
       "      <td>8 cylinders</td>\n",
       "      <td>3.0</td>\n",
       "      <td>141602.0</td>\n",
       "      <td>4.0</td>\n",
       "      <td>2.0</td>\n",
       "      <td>2.0</td>\n",
       "      <td>3.0</td>\n",
       "      <td>10.0</td>\n",
       "      <td>5.0</td>\n",
       "      <td>37.286501</td>\n",
       "      <td>-80.056719</td>\n",
       "    </tr>\n",
       "    <tr>\n",
       "      <th>10</th>\n",
       "      <td>8950</td>\n",
       "      <td>2007.0</td>\n",
       "      <td>0</td>\n",
       "      <td>avalanche</td>\n",
       "      <td>3.0</td>\n",
       "      <td>8 cylinders</td>\n",
       "      <td>3.0</td>\n",
       "      <td>205932.0</td>\n",
       "      <td>4.0</td>\n",
       "      <td>2.0</td>\n",
       "      <td>1.0</td>\n",
       "      <td>3.0</td>\n",
       "      <td>10.0</td>\n",
       "      <td>10.0</td>\n",
       "      <td>37.286501</td>\n",
       "      <td>-80.056719</td>\n",
       "    </tr>\n",
       "    <tr>\n",
       "      <th>11</th>\n",
       "      <td>11950</td>\n",
       "      <td>2007.0</td>\n",
       "      <td>1</td>\n",
       "      <td>f150</td>\n",
       "      <td>3.0</td>\n",
       "      <td>8 cylinders</td>\n",
       "      <td>3.0</td>\n",
       "      <td>77533.0</td>\n",
       "      <td>4.0</td>\n",
       "      <td>2.0</td>\n",
       "      <td>2.0</td>\n",
       "      <td>3.0</td>\n",
       "      <td>12.0</td>\n",
       "      <td>10.0</td>\n",
       "      <td>37.286501</td>\n",
       "      <td>-80.056719</td>\n",
       "    </tr>\n",
       "  </tbody>\n",
       "</table>\n",
       "</div>"
      ],
      "text/plain": [
       "    price    year  manufacturer        make  condition    cylinders  fuel  \\\n",
       "4   37900  2016.0             1        f350        3.0  8 cylinders   2.0   \n",
       "7    5000  2003.0             0   silverado        4.0  8 cylinders   3.0   \n",
       "9    5950  2003.0             1  expedition        3.0  8 cylinders   3.0   \n",
       "10   8950  2007.0             0   avalanche        3.0  8 cylinders   3.0   \n",
       "11  11950  2007.0             1        f150        3.0  8 cylinders   3.0   \n",
       "\n",
       "    odometer  title_status  transmission  drive  car_size  car_type  \\\n",
       "4    70500.0           4.0           2.0    2.0       NaN      12.0   \n",
       "7        NaN           4.0           2.0    NaN       NaN       NaN   \n",
       "9   141602.0           4.0           2.0    2.0       3.0      10.0   \n",
       "10  205932.0           4.0           2.0    1.0       3.0      10.0   \n",
       "11   77533.0           4.0           2.0    2.0       3.0      12.0   \n",
       "\n",
       "    paint_color        lat       long  \n",
       "4          11.0  36.272932 -82.537537  \n",
       "7           NaN  36.344500 -82.201500  \n",
       "9           5.0  37.286501 -80.056719  \n",
       "10         10.0  37.286501 -80.056719  \n",
       "11         10.0  37.286501 -80.056719  "
      ]
     },
     "execution_count": 3,
     "metadata": {},
     "output_type": "execute_result"
    }
   ],
   "source": [
    "dfcars.head()"
   ]
  },
  {
   "cell_type": "code",
   "execution_count": 6,
   "metadata": {},
   "outputs": [
    {
     "data": {
      "text/plain": [
       "(137605, 16)"
      ]
     },
     "execution_count": 6,
     "metadata": {},
     "output_type": "execute_result"
    }
   ],
   "source": [
    "dfcars.shape"
   ]
  },
  {
   "cell_type": "code",
   "execution_count": 4,
   "metadata": {},
   "outputs": [
    {
     "data": {
      "text/plain": [
       "price               0\n",
       "year                0\n",
       "manufacturer        0\n",
       "make                0\n",
       "condition       41892\n",
       "cylinders       37283\n",
       "fuel              432\n",
       "odometer        27578\n",
       "title_status       64\n",
       "transmission      534\n",
       "drive           32152\n",
       "car_size        78829\n",
       "car_type        39901\n",
       "paint_color     38792\n",
       "lat               443\n",
       "long              443\n",
       "dtype: int64"
      ]
     },
     "execution_count": 4,
     "metadata": {},
     "output_type": "execute_result"
    }
   ],
   "source": [
    "dfcars.isna().sum()"
   ]
  },
  {
   "cell_type": "code",
   "execution_count": 8,
   "metadata": {},
   "outputs": [],
   "source": [
    "# imputing averages for lat and long columns\n",
    "dfcars.loc[dfcars.lat.isna(), \"lat\"] = dfcars[\"lat\"].mean()\n",
    "dfcars.loc[dfcars.long.isna(), \"long\"] = dfcars[\"long\"].mean()"
   ]
  },
  {
   "cell_type": "code",
   "execution_count": null,
   "metadata": {},
   "outputs": [],
   "source": []
  }
 ],
 "metadata": {
  "kernelspec": {
   "display_name": "Python 3",
   "language": "python",
   "name": "python3"
  },
  "language_info": {
   "codemirror_mode": {
    "name": "ipython",
    "version": 3
   },
   "file_extension": ".py",
   "mimetype": "text/x-python",
   "name": "python",
   "nbconvert_exporter": "python",
   "pygments_lexer": "ipython3",
   "version": "3.7.0"
  }
 },
 "nbformat": 4,
 "nbformat_minor": 2
}
