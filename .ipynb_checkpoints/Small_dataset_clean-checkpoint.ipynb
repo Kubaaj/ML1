{
 "cells": [
  {
   "cell_type": "code",
   "execution_count": 1,
   "metadata": {},
   "outputs": [],
   "source": [
    "import pandas as pd\n",
    "%matplotlib inline"
   ]
  },
  {
   "cell_type": "code",
   "execution_count": 33,
   "metadata": {},
   "outputs": [
    {
     "data": {
      "text/html": [
       "<div>\n",
       "<style scoped>\n",
       "    .dataframe tbody tr th:only-of-type {\n",
       "        vertical-align: middle;\n",
       "    }\n",
       "\n",
       "    .dataframe tbody tr th {\n",
       "        vertical-align: top;\n",
       "    }\n",
       "\n",
       "    .dataframe thead th {\n",
       "        text-align: right;\n",
       "    }\n",
       "</style>\n",
       "<table border=\"1\" class=\"dataframe\">\n",
       "  <thead>\n",
       "    <tr style=\"text-align: right;\">\n",
       "      <th></th>\n",
       "      <th>url</th>\n",
       "      <th>city</th>\n",
       "      <th>price</th>\n",
       "      <th>year</th>\n",
       "      <th>manufacturer</th>\n",
       "      <th>make</th>\n",
       "      <th>condition</th>\n",
       "      <th>cylinders</th>\n",
       "      <th>fuel</th>\n",
       "      <th>odometer</th>\n",
       "      <th>title_status</th>\n",
       "      <th>transmission</th>\n",
       "      <th>VIN</th>\n",
       "      <th>drive</th>\n",
       "      <th>size</th>\n",
       "      <th>type</th>\n",
       "      <th>paint_color</th>\n",
       "      <th>image_url</th>\n",
       "      <th>lat</th>\n",
       "      <th>long</th>\n",
       "    </tr>\n",
       "  </thead>\n",
       "  <tbody>\n",
       "    <tr>\n",
       "      <th>0</th>\n",
       "      <td>https://tricities.craigslist.org/cto/d/1978-br...</td>\n",
       "      <td>tricities</td>\n",
       "      <td>5000</td>\n",
       "      <td>1978.0</td>\n",
       "      <td>ford</td>\n",
       "      <td>bronco</td>\n",
       "      <td>NaN</td>\n",
       "      <td>NaN</td>\n",
       "      <td>gas</td>\n",
       "      <td>NaN</td>\n",
       "      <td>clean</td>\n",
       "      <td>automatic</td>\n",
       "      <td>NaN</td>\n",
       "      <td>NaN</td>\n",
       "      <td>NaN</td>\n",
       "      <td>NaN</td>\n",
       "      <td>NaN</td>\n",
       "      <td>https://images.craigslist.org/00r0r_eGnnFC1JNm...</td>\n",
       "      <td>37.132840</td>\n",
       "      <td>-95.785580</td>\n",
       "    </tr>\n",
       "    <tr>\n",
       "      <th>1</th>\n",
       "      <td>https://tricities.craigslist.org/cto/d/2008-bu...</td>\n",
       "      <td>tricities</td>\n",
       "      <td>5000</td>\n",
       "      <td>2008.0</td>\n",
       "      <td>buick</td>\n",
       "      <td>lucerne cxl v6</td>\n",
       "      <td>like new</td>\n",
       "      <td>6 cylinders</td>\n",
       "      <td>gas</td>\n",
       "      <td>51000.0</td>\n",
       "      <td>clean</td>\n",
       "      <td>automatic</td>\n",
       "      <td>NaN</td>\n",
       "      <td>fwd</td>\n",
       "      <td>full-size</td>\n",
       "      <td>sedan</td>\n",
       "      <td>grey</td>\n",
       "      <td>https://images.craigslist.org/00N0N_1LSHqLESW9...</td>\n",
       "      <td>35.777999</td>\n",
       "      <td>-83.612533</td>\n",
       "    </tr>\n",
       "    <tr>\n",
       "      <th>2</th>\n",
       "      <td>https://tricities.craigslist.org/cto/d/2006-po...</td>\n",
       "      <td>tricities</td>\n",
       "      <td>13500</td>\n",
       "      <td>2006.0</td>\n",
       "      <td>NaN</td>\n",
       "      <td>Pont GTO</td>\n",
       "      <td>excellent</td>\n",
       "      <td>8 cylinders</td>\n",
       "      <td>gas</td>\n",
       "      <td>93000.0</td>\n",
       "      <td>clean</td>\n",
       "      <td>automatic</td>\n",
       "      <td>NaN</td>\n",
       "      <td>rwd</td>\n",
       "      <td>mid-size</td>\n",
       "      <td>coupe</td>\n",
       "      <td>red</td>\n",
       "      <td>https://images.craigslist.org/00Y0Y_4cbEgS4prY...</td>\n",
       "      <td>36.333900</td>\n",
       "      <td>-82.340800</td>\n",
       "    </tr>\n",
       "    <tr>\n",
       "      <th>3</th>\n",
       "      <td>https://tricities.craigslist.org/cto/d/2006-me...</td>\n",
       "      <td>tricities</td>\n",
       "      <td>6200</td>\n",
       "      <td>2006.0</td>\n",
       "      <td>mercedes-benz</td>\n",
       "      <td>NaN</td>\n",
       "      <td>NaN</td>\n",
       "      <td>NaN</td>\n",
       "      <td>gas</td>\n",
       "      <td>NaN</td>\n",
       "      <td>rebuilt</td>\n",
       "      <td>automatic</td>\n",
       "      <td>NaN</td>\n",
       "      <td>NaN</td>\n",
       "      <td>NaN</td>\n",
       "      <td>NaN</td>\n",
       "      <td>NaN</td>\n",
       "      <td>https://images.craigslist.org/00T0T_fGLx4Ltazq...</td>\n",
       "      <td>36.000092</td>\n",
       "      <td>-84.018302</td>\n",
       "    </tr>\n",
       "    <tr>\n",
       "      <th>4</th>\n",
       "      <td>https://tricities.craigslist.org/cto/d/2016-fo...</td>\n",
       "      <td>tricities</td>\n",
       "      <td>37900</td>\n",
       "      <td>2016.0</td>\n",
       "      <td>ford</td>\n",
       "      <td>f350</td>\n",
       "      <td>excellent</td>\n",
       "      <td>8 cylinders</td>\n",
       "      <td>diesel</td>\n",
       "      <td>70500.0</td>\n",
       "      <td>clean</td>\n",
       "      <td>automatic</td>\n",
       "      <td>NaN</td>\n",
       "      <td>4wd</td>\n",
       "      <td>NaN</td>\n",
       "      <td>truck</td>\n",
       "      <td>white</td>\n",
       "      <td>https://images.craigslist.org/00k0k_ls78o6lwVq...</td>\n",
       "      <td>36.272932</td>\n",
       "      <td>-82.537537</td>\n",
       "    </tr>\n",
       "  </tbody>\n",
       "</table>\n",
       "</div>"
      ],
      "text/plain": [
       "                                                 url       city  price  \\\n",
       "0  https://tricities.craigslist.org/cto/d/1978-br...  tricities   5000   \n",
       "1  https://tricities.craigslist.org/cto/d/2008-bu...  tricities   5000   \n",
       "2  https://tricities.craigslist.org/cto/d/2006-po...  tricities  13500   \n",
       "3  https://tricities.craigslist.org/cto/d/2006-me...  tricities   6200   \n",
       "4  https://tricities.craigslist.org/cto/d/2016-fo...  tricities  37900   \n",
       "\n",
       "     year   manufacturer            make  condition    cylinders    fuel  \\\n",
       "0  1978.0           ford          bronco        NaN          NaN     gas   \n",
       "1  2008.0          buick  lucerne cxl v6   like new  6 cylinders     gas   \n",
       "2  2006.0            NaN        Pont GTO  excellent  8 cylinders     gas   \n",
       "3  2006.0  mercedes-benz             NaN        NaN          NaN     gas   \n",
       "4  2016.0           ford            f350  excellent  8 cylinders  diesel   \n",
       "\n",
       "   odometer title_status transmission  VIN drive       size   type  \\\n",
       "0       NaN        clean    automatic  NaN   NaN        NaN    NaN   \n",
       "1   51000.0        clean    automatic  NaN   fwd  full-size  sedan   \n",
       "2   93000.0        clean    automatic  NaN   rwd   mid-size  coupe   \n",
       "3       NaN      rebuilt    automatic  NaN   NaN        NaN    NaN   \n",
       "4   70500.0        clean    automatic  NaN   4wd        NaN  truck   \n",
       "\n",
       "  paint_color                                          image_url        lat  \\\n",
       "0         NaN  https://images.craigslist.org/00r0r_eGnnFC1JNm...  37.132840   \n",
       "1        grey  https://images.craigslist.org/00N0N_1LSHqLESW9...  35.777999   \n",
       "2         red  https://images.craigslist.org/00Y0Y_4cbEgS4prY...  36.333900   \n",
       "3         NaN  https://images.craigslist.org/00T0T_fGLx4Ltazq...  36.000092   \n",
       "4       white  https://images.craigslist.org/00k0k_ls78o6lwVq...  36.272932   \n",
       "\n",
       "        long  \n",
       "0 -95.785580  \n",
       "1 -83.612533  \n",
       "2 -82.340800  \n",
       "3 -84.018302  \n",
       "4 -82.537537  "
      ]
     },
     "execution_count": 33,
     "metadata": {},
     "output_type": "execute_result"
    }
   ],
   "source": [
    "path = \"C:\\\\Users\\\\jakub\\\\Desktop\\\\ML1\\\\craigslistVehicles.csv\"\n",
    "dfcars = pd.read_csv(path)\n",
    "dfcars.head()"
   ]
  },
  {
   "cell_type": "code",
   "execution_count": 34,
   "metadata": {},
   "outputs": [],
   "source": [
    "dfcars = dfcars.drop(['url', 'city', 'VIN', 'image_url'], axis=1)"
   ]
  },
  {
   "cell_type": "code",
   "execution_count": 35,
   "metadata": {},
   "outputs": [
    {
     "data": {
      "text/plain": [
       "manufacturer\n",
       "noble                   1\n",
       "morgan                  9\n",
       "aston-martin           30\n",
       "land rover             45\n",
       "porche                 49\n",
       "alfa-romeo             91\n",
       "ferrari               103\n",
       "datsun                211\n",
       "harley-davidson       371\n",
       "fiat                  823\n",
       "jaguar               1694\n",
       "rover                2135\n",
       "mini                 2450\n",
       "saturn               3479\n",
       "mercury              3993\n",
       "mitsubishi           4187\n",
       "volvo                4450\n",
       "infiniti             4657\n",
       "lincoln              5060\n",
       "audi                 5870\n",
       "acura                6880\n",
       "lexus                7711\n",
       "pontiac              8590\n",
       "buick                9006\n",
       "mazda                9132\n",
       "kia                  9766\n",
       "cadillac             9963\n",
       "subaru              11523\n",
       "mercedes-benz       12117\n",
       "chrysler            12322\n",
       "hyundai             13444\n",
       "volkswagen          15290\n",
       "bmw                 16593\n",
       "ram                 22908\n",
       "gmc                 28033\n",
       "jeep                29796\n",
       "dodge               30337\n",
       "nissan              31358\n",
       "honda               34698\n",
       "toyota              45266\n",
       "chevrolet          103722\n",
       "ford               116051\n",
       "dtype: int64"
      ]
     },
     "execution_count": 35,
     "metadata": {},
     "output_type": "execute_result"
    }
   ],
   "source": [
    "dfcars.groupby(['manufacturer']).size().sort_values()"
   ]
  },
  {
   "cell_type": "code",
   "execution_count": 36,
   "metadata": {},
   "outputs": [
    {
     "data": {
      "text/plain": [
       "price                0\n",
       "year                 0\n",
       "manufacturer         0\n",
       "make             10059\n",
       "condition        91842\n",
       "cylinders        88199\n",
       "fuel              2448\n",
       "odometer         76313\n",
       "title_status      1077\n",
       "transmission      1610\n",
       "drive            79850\n",
       "size            142186\n",
       "type             89548\n",
       "paint_color      88116\n",
       "lat               1974\n",
       "long              1974\n",
       "dtype: int64"
      ]
     },
     "execution_count": 36,
     "metadata": {},
     "output_type": "execute_result"
    }
   ],
   "source": [
    "dfcars = dfcars.loc[(dfcars['manufacturer'] == 'ford') | (dfcars['manufacturer'] == 'chevrolet')]\n",
    "dfcars.isna().sum()"
   ]
  },
  {
   "cell_type": "code",
   "execution_count": 37,
   "metadata": {},
   "outputs": [
    {
     "name": "stdout",
     "output_type": "stream",
     "text": [
      "(219773, 16)\n"
     ]
    }
   ],
   "source": [
    "print(dfcars.shape)"
   ]
  },
  {
   "cell_type": "code",
   "execution_count": 38,
   "metadata": {},
   "outputs": [],
   "source": [
    "dfcars = dfcars.rename(index=str, columns={\"size\": \"car_size\", \"type\": \"car_type\"})"
   ]
  },
  {
   "cell_type": "code",
   "execution_count": 39,
   "metadata": {},
   "outputs": [
    {
     "name": "stdout",
     "output_type": "stream",
     "text": [
      "(176506, 16)\n"
     ]
    }
   ],
   "source": [
    "dfcars = dfcars.dropna(subset=['make'])\n",
    "dfcars = dfcars.dropna(thresh=10) #Keep only the rows with at least 10 non-NA values. To discuss\n",
    "print(dfcars.shape)"
   ]
  },
  {
   "cell_type": "code",
   "execution_count": 40,
   "metadata": {},
   "outputs": [
    {
     "data": {
      "text/html": [
       "<div>\n",
       "<style scoped>\n",
       "    .dataframe tbody tr th:only-of-type {\n",
       "        vertical-align: middle;\n",
       "    }\n",
       "\n",
       "    .dataframe tbody tr th {\n",
       "        vertical-align: top;\n",
       "    }\n",
       "\n",
       "    .dataframe thead th {\n",
       "        text-align: right;\n",
       "    }\n",
       "</style>\n",
       "<table border=\"1\" class=\"dataframe\">\n",
       "  <thead>\n",
       "    <tr style=\"text-align: right;\">\n",
       "      <th></th>\n",
       "      <th>price</th>\n",
       "      <th>year</th>\n",
       "      <th>manufacturer</th>\n",
       "      <th>make</th>\n",
       "      <th>condition</th>\n",
       "      <th>cylinders</th>\n",
       "      <th>fuel</th>\n",
       "      <th>odometer</th>\n",
       "      <th>title_status</th>\n",
       "      <th>transmission</th>\n",
       "      <th>drive</th>\n",
       "      <th>car_size</th>\n",
       "      <th>car_type</th>\n",
       "      <th>paint_color</th>\n",
       "      <th>lat</th>\n",
       "      <th>long</th>\n",
       "    </tr>\n",
       "  </thead>\n",
       "  <tbody>\n",
       "    <tr>\n",
       "      <th>4</th>\n",
       "      <td>37900</td>\n",
       "      <td>2016.0</td>\n",
       "      <td>ford</td>\n",
       "      <td>f350</td>\n",
       "      <td>excellent</td>\n",
       "      <td>8 cylinders</td>\n",
       "      <td>diesel</td>\n",
       "      <td>70500.0</td>\n",
       "      <td>clean</td>\n",
       "      <td>automatic</td>\n",
       "      <td>4wd</td>\n",
       "      <td>NaN</td>\n",
       "      <td>truck</td>\n",
       "      <td>white</td>\n",
       "      <td>36.272932</td>\n",
       "      <td>-82.537537</td>\n",
       "    </tr>\n",
       "    <tr>\n",
       "      <th>7</th>\n",
       "      <td>5000</td>\n",
       "      <td>2003.0</td>\n",
       "      <td>chevrolet</td>\n",
       "      <td>silverado</td>\n",
       "      <td>like new</td>\n",
       "      <td>8 cylinders</td>\n",
       "      <td>gas</td>\n",
       "      <td>NaN</td>\n",
       "      <td>clean</td>\n",
       "      <td>automatic</td>\n",
       "      <td>NaN</td>\n",
       "      <td>NaN</td>\n",
       "      <td>NaN</td>\n",
       "      <td>NaN</td>\n",
       "      <td>36.344500</td>\n",
       "      <td>-82.201500</td>\n",
       "    </tr>\n",
       "    <tr>\n",
       "      <th>9</th>\n",
       "      <td>5950</td>\n",
       "      <td>2003.0</td>\n",
       "      <td>ford</td>\n",
       "      <td>expedition</td>\n",
       "      <td>excellent</td>\n",
       "      <td>8 cylinders</td>\n",
       "      <td>gas</td>\n",
       "      <td>141602.0</td>\n",
       "      <td>clean</td>\n",
       "      <td>automatic</td>\n",
       "      <td>4wd</td>\n",
       "      <td>full-size</td>\n",
       "      <td>SUV</td>\n",
       "      <td>green</td>\n",
       "      <td>37.286501</td>\n",
       "      <td>-80.056719</td>\n",
       "    </tr>\n",
       "    <tr>\n",
       "      <th>10</th>\n",
       "      <td>8950</td>\n",
       "      <td>2007.0</td>\n",
       "      <td>chevrolet</td>\n",
       "      <td>avalanche</td>\n",
       "      <td>excellent</td>\n",
       "      <td>8 cylinders</td>\n",
       "      <td>gas</td>\n",
       "      <td>205932.0</td>\n",
       "      <td>clean</td>\n",
       "      <td>automatic</td>\n",
       "      <td>rwd</td>\n",
       "      <td>full-size</td>\n",
       "      <td>SUV</td>\n",
       "      <td>black</td>\n",
       "      <td>37.286501</td>\n",
       "      <td>-80.056719</td>\n",
       "    </tr>\n",
       "    <tr>\n",
       "      <th>11</th>\n",
       "      <td>11950</td>\n",
       "      <td>2007.0</td>\n",
       "      <td>ford</td>\n",
       "      <td>f-150</td>\n",
       "      <td>excellent</td>\n",
       "      <td>8 cylinders</td>\n",
       "      <td>gas</td>\n",
       "      <td>77533.0</td>\n",
       "      <td>clean</td>\n",
       "      <td>automatic</td>\n",
       "      <td>4wd</td>\n",
       "      <td>full-size</td>\n",
       "      <td>truck</td>\n",
       "      <td>black</td>\n",
       "      <td>37.286501</td>\n",
       "      <td>-80.056719</td>\n",
       "    </tr>\n",
       "  </tbody>\n",
       "</table>\n",
       "</div>"
      ],
      "text/plain": [
       "    price    year manufacturer        make  condition    cylinders    fuel  \\\n",
       "4   37900  2016.0         ford        f350  excellent  8 cylinders  diesel   \n",
       "7    5000  2003.0    chevrolet   silverado   like new  8 cylinders     gas   \n",
       "9    5950  2003.0         ford  expedition  excellent  8 cylinders     gas   \n",
       "10   8950  2007.0    chevrolet   avalanche  excellent  8 cylinders     gas   \n",
       "11  11950  2007.0         ford       f-150  excellent  8 cylinders     gas   \n",
       "\n",
       "    odometer title_status transmission drive   car_size car_type paint_color  \\\n",
       "4    70500.0        clean    automatic   4wd        NaN    truck       white   \n",
       "7        NaN        clean    automatic   NaN        NaN      NaN         NaN   \n",
       "9   141602.0        clean    automatic   4wd  full-size      SUV       green   \n",
       "10  205932.0        clean    automatic   rwd  full-size      SUV       black   \n",
       "11   77533.0        clean    automatic   4wd  full-size    truck       black   \n",
       "\n",
       "          lat       long  \n",
       "4   36.272932 -82.537537  \n",
       "7   36.344500 -82.201500  \n",
       "9   37.286501 -80.056719  \n",
       "10  37.286501 -80.056719  \n",
       "11  37.286501 -80.056719  "
      ]
     },
     "execution_count": 40,
     "metadata": {},
     "output_type": "execute_result"
    }
   ],
   "source": [
    "dfcars.head()"
   ]
  },
  {
   "cell_type": "code",
   "execution_count": 41,
   "metadata": {},
   "outputs": [
    {
     "data": {
      "text/plain": [
       "price             int64\n",
       "year            float64\n",
       "manufacturer     object\n",
       "make             object\n",
       "condition        object\n",
       "cylinders        object\n",
       "fuel             object\n",
       "odometer        float64\n",
       "title_status     object\n",
       "transmission     object\n",
       "drive            object\n",
       "car_size         object\n",
       "car_type         object\n",
       "paint_color      object\n",
       "lat             float64\n",
       "long            float64\n",
       "dtype: object"
      ]
     },
     "execution_count": 41,
     "metadata": {},
     "output_type": "execute_result"
    }
   ],
   "source": [
    "dfcars.dtypes"
   ]
  },
  {
   "cell_type": "code",
   "execution_count": 44,
   "metadata": {},
   "outputs": [
    {
     "name": "stdout",
     "output_type": "stream",
     "text": [
      "f-150                  7879\n",
      "silverado 1500         5895\n",
      "mustang                4038\n",
      "silverado              3598\n",
      "escape                 3309\n",
      "explorer               3201\n",
      "f150                   2968\n",
      "tahoe                  2949\n",
      "f250                   2911\n",
      "impala                 2807\n",
      "1500 silverado         2658\n",
      "focus                  2642\n",
      "fusion                 2390\n",
      "corvette               2387\n",
      "camaro                 2363\n",
      "malibu                 2303\n",
      "equinox                2176\n",
      "ranger                 2122\n",
      "f-250                  2025\n",
      "f350                   1901\n",
      "cruze                  1775\n",
      "1500                   1767\n",
      "suburban               1725\n",
      "edge                   1660\n",
      "silverado 2500hd       1601\n",
      "expedition             1593\n",
      "taurus                 1499\n",
      "f150 4x4               1427\n",
      "f-350                  1423\n",
      "traverse               1241\n",
      "mustang gt             1208\n",
      "focus se               1197\n",
      "avalanche              1132\n",
      "colorado               1092\n",
      "trailblazer            1082\n",
      "f-250 super duty        966\n",
      "fusion se               925\n",
      "f150 xlt                896\n",
      "s10                     879\n",
      "cobalt                  866\n",
      "f-150 xlt               831\n",
      "ranger xlt              820\n",
      "escape xlt              792\n",
      "explorer xlt            791\n",
      "impala lt               749\n",
      "tahoe lt                714\n",
      "mustang convertible     711\n",
      "excursion               676\n",
      "fiesta                  671\n",
      "equinox lt              661\n",
      "malibu lt               647\n",
      "2500 silverado          637\n",
      "blazer                  616\n",
      "hhr                     601\n",
      "Name: make, dtype: int64\n"
     ]
    }
   ],
   "source": [
    "print(dfcars.make.value_counts())\n",
    "#Tu bym się zastanowił co robimy. Czy potrezebujemy info o modelach, które wystąpiły raz lub kilka razy? Ja bym je wywalił xD"
   ]
  },
  {
   "cell_type": "code",
   "execution_count": null,
   "metadata": {},
   "outputs": [],
   "source": [
    "dfcars.query('make == ')s"
   ]
  },
  {
   "cell_type": "code",
   "execution_count": 43,
   "metadata": {},
   "outputs": [
    {
     "name": "stdout",
     "output_type": "stream",
     "text": [
      "(98393, 16)\n"
     ]
    }
   ],
   "source": [
    "dfcars['count'] = dfcars.groupby('make')['make'].transform('count')\n",
    "dfcars = dfcars.loc[(dfcars['count'] > 600)]\n",
    "del dfcars['count']\n",
    "print(dfcars.shape)"
   ]
  },
  {
   "cell_type": "code",
   "execution_count": 21,
   "metadata": {},
   "outputs": [
    {
     "name": "stdout",
     "output_type": "stream",
     "text": [
      "good         28872\n",
      "excellent    26812\n",
      "like new      7204\n",
      "fair          5786\n",
      "new            638\n",
      "salvage        381\n",
      "Name: condition, dtype: int64\n"
     ]
    }
   ],
   "source": [
    "print(dfcars.condition.value_counts())"
   ]
  },
  {
   "cell_type": "code",
   "execution_count": 14,
   "metadata": {},
   "outputs": [
    {
     "name": "stdout",
     "output_type": "stream",
     "text": [
      "3.0    51117\n",
      "2.0    48520\n",
      "4.0    12061\n",
      "1.0     9942\n",
      "5.0     1010\n",
      "0.0      654\n",
      "Name: condition, dtype: int64\n"
     ]
    }
   ],
   "source": [
    "condDict = {'new':5, 'like new':4, 'excellent':3, 'good':2,'fair':1, 'salvage':0}\n",
    "dfcars[\"condition\"]=dfcars.condition.map(condDict)\n",
    "print(dfcars.condition.value_counts())"
   ]
  },
  {
   "cell_type": "code",
   "execution_count": 15,
   "metadata": {},
   "outputs": [
    {
     "name": "stdout",
     "output_type": "stream",
     "text": [
      "8 cylinders     65816\n",
      "6 cylinders     34184\n",
      "4 cylinders     20844\n",
      "other            4552\n",
      "10 cylinders     1348\n",
      "5 cylinders       599\n",
      "3 cylinders       104\n",
      "12 cylinders       13\n",
      "Name: cylinders, dtype: int64\n"
     ]
    }
   ],
   "source": [
    "print(dfcars.cylinders.value_counts())"
   ]
  },
  {
   "cell_type": "code",
   "execution_count": 16,
   "metadata": {},
   "outputs": [],
   "source": [
    "dfcars['cylinders'] = dfcars['cylinders'].fillna('missing')"
   ]
  },
  {
   "cell_type": "code",
   "execution_count": 17,
   "metadata": {},
   "outputs": [
    {
     "name": "stderr",
     "output_type": "stream",
     "text": [
      "c:\\users\\jakub\\appdata\\local\\programs\\python\\python36\\lib\\site-packages\\pandas\\core\\indexing.py:189: SettingWithCopyWarning: \n",
      "A value is trying to be set on a copy of a slice from a DataFrame\n",
      "\n",
      "See the caveats in the documentation: http://pandas.pydata.org/pandas-docs/stable/indexing.html#indexing-view-versus-copy\n",
      "  self._setitem_with_indexer(indexer, value)\n"
     ]
    }
   ],
   "source": [
    "#Zamiana other na 0 -> potem można jakoś MLowo wyznaczyć liczbę cylindrów gdy jest 0. \n",
    "#Czy zamienić na coś 'missing'? Wtedy możnaby zamienić kolumnę na int\n",
    "dfcars['cylinders'].loc[(dfcars['cylinders'] == 'other')] = 0\n",
    "dfcars['cylinders'] = dfcars['cylinders'].str.extract('(\\d+)') #.astype(int).head()\n",
    "dfcars['cylinders'] = dfcars['cylinders'].fillna('missing')"
   ]
  },
  {
   "cell_type": "code",
   "execution_count": 18,
   "metadata": {},
   "outputs": [
    {
     "name": "stdout",
     "output_type": "stream",
     "text": [
      "ford         95044\n",
      "chevrolet    81462\n",
      "Name: manufacturer, dtype: int64\n"
     ]
    }
   ],
   "source": [
    "print(dfcars.manufacturer.value_counts())"
   ]
  },
  {
   "cell_type": "code",
   "execution_count": 19,
   "metadata": {},
   "outputs": [
    {
     "name": "stdout",
     "output_type": "stream",
     "text": [
      "1    95044\n",
      "0    81462\n",
      "Name: manufacturer, dtype: int64\n"
     ]
    }
   ],
   "source": [
    "manDict = {'ford':1, 'chevrolet':0}\n",
    "dfcars[\"manufacturer\"]=dfcars.manufacturer.map(manDict)\n",
    "print(dfcars.manufacturer.value_counts())"
   ]
  },
  {
   "cell_type": "code",
   "execution_count": 20,
   "metadata": {},
   "outputs": [
    {
     "name": "stdout",
     "output_type": "stream",
     "text": [
      "gas         151369\n",
      "diesel       17768\n",
      "other         5553\n",
      "hybrid         711\n",
      "electric       113\n",
      "Name: fuel, dtype: int64\n"
     ]
    }
   ],
   "source": [
    "print(dfcars.fuel.value_counts())"
   ]
  },
  {
   "cell_type": "code",
   "execution_count": 21,
   "metadata": {},
   "outputs": [
    {
     "name": "stdout",
     "output_type": "stream",
     "text": [
      "3.0    151369\n",
      "2.0     17768\n",
      "1.0      5553\n",
      "0.0       824\n",
      "Name: fuel, dtype: int64\n"
     ]
    }
   ],
   "source": [
    "fuelDict = {'gas':3, 'diesel':2, 'other':1, 'hybrid':0, 'electric':0}\n",
    "dfcars[\"fuel\"]=dfcars.fuel.map(fuelDict)\n",
    "print(dfcars.fuel.value_counts())"
   ]
  },
  {
   "cell_type": "code",
   "execution_count": 21,
   "metadata": {},
   "outputs": [
    {
     "name": "stdout",
     "output_type": "stream",
     "text": [
      "clean         166039\n",
      "rebuilt         4180\n",
      "lien            2634\n",
      "salvage         2388\n",
      "missing          841\n",
      "parts only       309\n",
      "Name: title_status, dtype: int64\n"
     ]
    }
   ],
   "source": [
    "print(dfcars.title_status.value_counts())"
   ]
  },
  {
   "cell_type": "code",
   "execution_count": 22,
   "metadata": {},
   "outputs": [
    {
     "name": "stdout",
     "output_type": "stream",
     "text": [
      "5.0    166039\n",
      "4.0      4180\n",
      "3.0      2634\n",
      "2.0      2388\n",
      "1.0       841\n",
      "0.0       309\n",
      "Name: title_status, dtype: int64\n"
     ]
    }
   ],
   "source": [
    "#Może w ogóle usunąć part only i salvage??\n",
    "titleDict = {'clean':5, 'rebuilt':4, 'lien':3, 'salvage':2, 'missing':1, 'parts only':0}\n",
    "dfcars[\"title_status\"]=dfcars.title_status.map(titleDict)\n",
    "print(dfcars.title_status.value_counts())"
   ]
  },
  {
   "cell_type": "code",
   "execution_count": 23,
   "metadata": {},
   "outputs": [
    {
     "name": "stdout",
     "output_type": "stream",
     "text": [
      "automatic    156477\n",
      "manual        16093\n",
      "other          3349\n",
      "Name: transmission, dtype: int64\n"
     ]
    }
   ],
   "source": [
    "print(dfcars.transmission.value_counts())"
   ]
  },
  {
   "cell_type": "code",
   "execution_count": 24,
   "metadata": {},
   "outputs": [
    {
     "name": "stdout",
     "output_type": "stream",
     "text": [
      "2.0    156477\n",
      "1.0     16093\n",
      "0.0      3349\n",
      "Name: transmission, dtype: int64\n"
     ]
    }
   ],
   "source": [
    "transDict = {'automatic':2, 'manual':1, 'other':0}\n",
    "dfcars[\"transmission\"]=dfcars.transmission.map(transDict)\n",
    "print(dfcars.transmission.value_counts())"
   ]
  },
  {
   "cell_type": "code",
   "execution_count": 25,
   "metadata": {},
   "outputs": [
    {
     "name": "stdout",
     "output_type": "stream",
     "text": [
      "4wd    65163\n",
      "rwd    39721\n",
      "fwd    31337\n",
      "Name: drive, dtype: int64\n"
     ]
    }
   ],
   "source": [
    "print(dfcars.drive.value_counts())"
   ]
  },
  {
   "cell_type": "code",
   "execution_count": 26,
   "metadata": {},
   "outputs": [
    {
     "name": "stdout",
     "output_type": "stream",
     "text": [
      "2.0    65163\n",
      "1.0    39721\n",
      "0.0    31337\n",
      "Name: drive, dtype: int64\n"
     ]
    }
   ],
   "source": [
    "driveDict = {'4wd':2, 'rwd':1, 'fwd':0}\n",
    "dfcars[\"drive\"]=dfcars.drive.map(driveDict)\n",
    "print(dfcars.drive.value_counts())"
   ]
  },
  {
   "cell_type": "code",
   "execution_count": 27,
   "metadata": {},
   "outputs": [
    {
     "name": "stdout",
     "output_type": "stream",
     "text": [
      "full-size      50502\n",
      "mid-size       16367\n",
      "compact         6932\n",
      "sub-compact     1125\n",
      "Name: car_size, dtype: int64\n"
     ]
    }
   ],
   "source": [
    "print(dfcars.car_size.value_counts())"
   ]
  },
  {
   "cell_type": "code",
   "execution_count": 28,
   "metadata": {},
   "outputs": [
    {
     "name": "stdout",
     "output_type": "stream",
     "text": [
      "3.0    50502\n",
      "2.0    16367\n",
      "1.0     6932\n",
      "0.0     1125\n",
      "Name: car_size, dtype: int64\n"
     ]
    }
   ],
   "source": [
    "sizeDict = {'full-size':3, 'mid-size':2, 'compact':1, 'sub-compact':0}\n",
    "dfcars[\"car_size\"]=dfcars.car_size.map(sizeDict)\n",
    "print(dfcars.car_size.value_counts())"
   ]
  },
  {
   "cell_type": "code",
   "execution_count": 29,
   "metadata": {},
   "outputs": [
    {
     "name": "stdout",
     "output_type": "stream",
     "text": [
      "truck          28647\n",
      "pickup         27499\n",
      "SUV            26096\n",
      "sedan          19315\n",
      "coupe           9656\n",
      "van             4709\n",
      "convertible     2815\n",
      "hatchback       2809\n",
      "other           2610\n",
      "wagon           1084\n",
      "mini-van         930\n",
      "bus              352\n",
      "offroad          297\n",
      "Name: car_type, dtype: int64\n"
     ]
    }
   ],
   "source": [
    "print(dfcars.car_type.value_counts())"
   ]
  },
  {
   "cell_type": "code",
   "execution_count": 30,
   "metadata": {},
   "outputs": [
    {
     "name": "stdout",
     "output_type": "stream",
     "text": [
      "12.0    28647\n",
      "11.0    27499\n",
      "10.0    26096\n",
      "9.0     19315\n",
      "8.0      9656\n",
      "7.0      4709\n",
      "6.0      2815\n",
      "5.0      2809\n",
      "4.0      2610\n",
      "3.0      1084\n",
      "2.0       930\n",
      "1.0       352\n",
      "0.0       297\n",
      "Name: car_type, dtype: int64\n"
     ]
    }
   ],
   "source": [
    "typeDict = {'truck':12, 'pickup':11, 'SUV':10, 'sedan':9, 'coupe':8, 'van':7, 'convertible':6, \n",
    "    'hatchback':5, 'other':4, 'wagon':3, 'mini-van':2, 'bus':1, 'offroad':0}\n",
    "dfcars[\"car_type\"]=dfcars.car_type.map(typeDict)\n",
    "print(dfcars.car_type.value_counts())"
   ]
  },
  {
   "cell_type": "code",
   "execution_count": 31,
   "metadata": {},
   "outputs": [
    {
     "name": "stdout",
     "output_type": "stream",
     "text": [
      "white     35385\n",
      "black     22999\n",
      "red       16775\n",
      "blue      14162\n",
      "silver    13586\n",
      "grey       9906\n",
      "green      5478\n",
      "brown      3594\n",
      "custom     3211\n",
      "yellow     1601\n",
      "orange      932\n",
      "purple      404\n",
      "Name: paint_color, dtype: int64\n"
     ]
    }
   ],
   "source": [
    "print(dfcars.paint_color.value_counts())"
   ]
  },
  {
   "cell_type": "code",
   "execution_count": 32,
   "metadata": {},
   "outputs": [
    {
     "name": "stdout",
     "output_type": "stream",
     "text": [
      "11.0    35385\n",
      "10.0    22999\n",
      "9.0     16775\n",
      "8.0     14162\n",
      "7.0     13586\n",
      "6.0      9906\n",
      "5.0      5478\n",
      "4.0      3594\n",
      "3.0      3211\n",
      "2.0      1601\n",
      "1.0       932\n",
      "0.0       404\n",
      "Name: paint_color, dtype: int64\n"
     ]
    }
   ],
   "source": [
    "colDict = {'white':11, 'black':10, 'red':9, 'blue':8, 'silver':7, 'grey':6, 'green':5, \n",
    "    'brown':4, 'custom':3, 'yellow':2, 'orange':1, 'purple':0}\n",
    "dfcars[\"paint_color\"]=dfcars.paint_color.map(colDict)\n",
    "print(dfcars.paint_color.value_counts())"
   ]
  },
  {
   "cell_type": "code",
   "execution_count": 33,
   "metadata": {},
   "outputs": [
    {
     "data": {
      "text/html": [
       "<div>\n",
       "<style scoped>\n",
       "    .dataframe tbody tr th:only-of-type {\n",
       "        vertical-align: middle;\n",
       "    }\n",
       "\n",
       "    .dataframe tbody tr th {\n",
       "        vertical-align: top;\n",
       "    }\n",
       "\n",
       "    .dataframe thead th {\n",
       "        text-align: right;\n",
       "    }\n",
       "</style>\n",
       "<table border=\"1\" class=\"dataframe\">\n",
       "  <thead>\n",
       "    <tr style=\"text-align: right;\">\n",
       "      <th></th>\n",
       "      <th>price</th>\n",
       "      <th>year</th>\n",
       "      <th>manufacturer</th>\n",
       "      <th>condition</th>\n",
       "      <th>fuel</th>\n",
       "      <th>odometer</th>\n",
       "      <th>title_status</th>\n",
       "      <th>transmission</th>\n",
       "      <th>drive</th>\n",
       "      <th>car_size</th>\n",
       "      <th>car_type</th>\n",
       "      <th>paint_color</th>\n",
       "      <th>lat</th>\n",
       "      <th>long</th>\n",
       "    </tr>\n",
       "  </thead>\n",
       "  <tbody>\n",
       "    <tr>\n",
       "      <th>count</th>\n",
       "      <td>1.765060e+05</td>\n",
       "      <td>176506.000000</td>\n",
       "      <td>176506.000000</td>\n",
       "      <td>123304.000000</td>\n",
       "      <td>175514.000000</td>\n",
       "      <td>1.402220e+05</td>\n",
       "      <td>176391.000000</td>\n",
       "      <td>175919.000000</td>\n",
       "      <td>136221.000000</td>\n",
       "      <td>74926.000000</td>\n",
       "      <td>126819.000000</td>\n",
       "      <td>128033.00000</td>\n",
       "      <td>175880.000000</td>\n",
       "      <td>175880.000000</td>\n",
       "    </tr>\n",
       "    <tr>\n",
       "      <th>mean</th>\n",
       "      <td>4.043514e+05</td>\n",
       "      <td>2004.872367</td>\n",
       "      <td>0.538475</td>\n",
       "      <td>2.543527</td>\n",
       "      <td>3.820761</td>\n",
       "      <td>1.158846e+05</td>\n",
       "      <td>4.877993</td>\n",
       "      <td>1.870446</td>\n",
       "      <td>1.248317</td>\n",
       "      <td>2.551477</td>\n",
       "      <td>9.762717</td>\n",
       "      <td>8.54129</td>\n",
       "      <td>39.218204</td>\n",
       "      <td>-93.896241</td>\n",
       "    </tr>\n",
       "    <tr>\n",
       "      <th>std</th>\n",
       "      <td>3.714692e+07</td>\n",
       "      <td>12.652634</td>\n",
       "      <td>0.498519</td>\n",
       "      <td>0.828234</td>\n",
       "      <td>0.492364</td>\n",
       "      <td>1.329206e+05</td>\n",
       "      <td>0.557196</td>\n",
       "      <td>0.388388</td>\n",
       "      <td>0.804208</td>\n",
       "      <td>0.722829</td>\n",
       "      <td>2.202759</td>\n",
       "      <td>2.43507</td>\n",
       "      <td>6.036354</td>\n",
       "      <td>16.641397</td>\n",
       "    </tr>\n",
       "    <tr>\n",
       "      <th>min</th>\n",
       "      <td>1.000000e+00</td>\n",
       "      <td>1900.000000</td>\n",
       "      <td>0.000000</td>\n",
       "      <td>0.000000</td>\n",
       "      <td>0.000000</td>\n",
       "      <td>0.000000e+00</td>\n",
       "      <td>0.000000</td>\n",
       "      <td>0.000000</td>\n",
       "      <td>0.000000</td>\n",
       "      <td>0.000000</td>\n",
       "      <td>0.000000</td>\n",
       "      <td>0.00000</td>\n",
       "      <td>-84.810047</td>\n",
       "      <td>-179.252930</td>\n",
       "    </tr>\n",
       "    <tr>\n",
       "      <th>25%</th>\n",
       "      <td>4.000000e+03</td>\n",
       "      <td>2002.000000</td>\n",
       "      <td>0.000000</td>\n",
       "      <td>2.000000</td>\n",
       "      <td>4.000000</td>\n",
       "      <td>5.900000e+04</td>\n",
       "      <td>5.000000</td>\n",
       "      <td>2.000000</td>\n",
       "      <td>1.000000</td>\n",
       "      <td>2.000000</td>\n",
       "      <td>9.000000</td>\n",
       "      <td>7.00000</td>\n",
       "      <td>35.175100</td>\n",
       "      <td>-104.706424</td>\n",
       "    </tr>\n",
       "    <tr>\n",
       "      <th>50%</th>\n",
       "      <td>9.000000e+03</td>\n",
       "      <td>2008.000000</td>\n",
       "      <td>1.000000</td>\n",
       "      <td>3.000000</td>\n",
       "      <td>4.000000</td>\n",
       "      <td>1.090000e+05</td>\n",
       "      <td>5.000000</td>\n",
       "      <td>2.000000</td>\n",
       "      <td>1.000000</td>\n",
       "      <td>3.000000</td>\n",
       "      <td>10.000000</td>\n",
       "      <td>9.00000</td>\n",
       "      <td>39.765190</td>\n",
       "      <td>-88.968100</td>\n",
       "    </tr>\n",
       "    <tr>\n",
       "      <th>75%</th>\n",
       "      <td>1.795000e+04</td>\n",
       "      <td>2013.000000</td>\n",
       "      <td>1.000000</td>\n",
       "      <td>3.000000</td>\n",
       "      <td>4.000000</td>\n",
       "      <td>1.568975e+05</td>\n",
       "      <td>5.000000</td>\n",
       "      <td>2.000000</td>\n",
       "      <td>2.000000</td>\n",
       "      <td>3.000000</td>\n",
       "      <td>11.000000</td>\n",
       "      <td>11.00000</td>\n",
       "      <td>42.899220</td>\n",
       "      <td>-81.576159</td>\n",
       "    </tr>\n",
       "    <tr>\n",
       "      <th>max</th>\n",
       "      <td>4.211956e+09</td>\n",
       "      <td>2019.000000</td>\n",
       "      <td>1.000000</td>\n",
       "      <td>5.000000</td>\n",
       "      <td>4.000000</td>\n",
       "      <td>1.000000e+07</td>\n",
       "      <td>5.000000</td>\n",
       "      <td>2.000000</td>\n",
       "      <td>2.000000</td>\n",
       "      <td>3.000000</td>\n",
       "      <td>12.000000</td>\n",
       "      <td>11.00000</td>\n",
       "      <td>82.658264</td>\n",
       "      <td>26.744158</td>\n",
       "    </tr>\n",
       "  </tbody>\n",
       "</table>\n",
       "</div>"
      ],
      "text/plain": [
       "              price           year   manufacturer      condition  \\\n",
       "count  1.765060e+05  176506.000000  176506.000000  123304.000000   \n",
       "mean   4.043514e+05    2004.872367       0.538475       2.543527   \n",
       "std    3.714692e+07      12.652634       0.498519       0.828234   \n",
       "min    1.000000e+00    1900.000000       0.000000       0.000000   \n",
       "25%    4.000000e+03    2002.000000       0.000000       2.000000   \n",
       "50%    9.000000e+03    2008.000000       1.000000       3.000000   \n",
       "75%    1.795000e+04    2013.000000       1.000000       3.000000   \n",
       "max    4.211956e+09    2019.000000       1.000000       5.000000   \n",
       "\n",
       "                fuel      odometer   title_status   transmission  \\\n",
       "count  175514.000000  1.402220e+05  176391.000000  175919.000000   \n",
       "mean        3.820761  1.158846e+05       4.877993       1.870446   \n",
       "std         0.492364  1.329206e+05       0.557196       0.388388   \n",
       "min         0.000000  0.000000e+00       0.000000       0.000000   \n",
       "25%         4.000000  5.900000e+04       5.000000       2.000000   \n",
       "50%         4.000000  1.090000e+05       5.000000       2.000000   \n",
       "75%         4.000000  1.568975e+05       5.000000       2.000000   \n",
       "max         4.000000  1.000000e+07       5.000000       2.000000   \n",
       "\n",
       "               drive      car_size       car_type   paint_color  \\\n",
       "count  136221.000000  74926.000000  126819.000000  128033.00000   \n",
       "mean        1.248317      2.551477       9.762717       8.54129   \n",
       "std         0.804208      0.722829       2.202759       2.43507   \n",
       "min         0.000000      0.000000       0.000000       0.00000   \n",
       "25%         1.000000      2.000000       9.000000       7.00000   \n",
       "50%         1.000000      3.000000      10.000000       9.00000   \n",
       "75%         2.000000      3.000000      11.000000      11.00000   \n",
       "max         2.000000      3.000000      12.000000      11.00000   \n",
       "\n",
       "                 lat           long  \n",
       "count  175880.000000  175880.000000  \n",
       "mean       39.218204     -93.896241  \n",
       "std         6.036354      16.641397  \n",
       "min       -84.810047    -179.252930  \n",
       "25%        35.175100    -104.706424  \n",
       "50%        39.765190     -88.968100  \n",
       "75%        42.899220     -81.576159  \n",
       "max        82.658264      26.744158  "
      ]
     },
     "execution_count": 33,
     "metadata": {},
     "output_type": "execute_result"
    }
   ],
   "source": [
    "dfcars.describe()"
   ]
  },
  {
   "cell_type": "code",
   "execution_count": 35,
   "metadata": {},
   "outputs": [
    {
     "name": "stdout",
     "output_type": "stream",
     "text": [
      "(176506, 16)\n"
     ]
    }
   ],
   "source": [
    "print(dfcars.shape)"
   ]
  },
  {
   "cell_type": "code",
   "execution_count": 40,
   "metadata": {},
   "outputs": [
    {
     "data": {
      "text/plain": [
       "<matplotlib.axes._subplots.AxesSubplot at 0x1ea66b06a90>"
      ]
     },
     "execution_count": 40,
     "metadata": {},
     "output_type": "execute_result"
    },
    {
     "data": {
      "image/png": "[encoded data removed]",
      "text/plain": [
       "<Figure size 432x288 with 1 Axes>"
      ]
     },
     "metadata": {
      "needs_background": "light"
     },
     "output_type": "display_data"
    }
   ],
   "source": [
    "dfcars = dfcars.loc[(dfcars['price'] < 250000)]\n",
    "dfcars.price.hist(bins=100) \n",
    "#Odrzuciłbym samochody droższe niż np milion (albo i mniej). Samochód za 4 miliardy dolarów to chyba jakiś błąd"
   ]
  },
  {
   "cell_type": "code",
   "execution_count": 42,
   "metadata": {},
   "outputs": [],
   "source": [
    "dfcars.to_pickle(\"C:\\\\Users\\\\jakub\\\\Desktop\\\\ML1\\\\dfcars.p\")"
   ]
  },
  {
   "cell_type": "code",
   "execution_count": 41,
   "metadata": {},
   "outputs": [
    {
     "name": "stdout",
     "output_type": "stream",
     "text": [
      "(176416, 16)\n"
     ]
    }
   ],
   "source": [
    "print(dfcars.shape)"
   ]
  },
  {
   "cell_type": "code",
   "execution_count": null,
   "metadata": {},
   "outputs": [],
   "source": []
  }
 ],
 "metadata": {
  "kernelspec": {
   "display_name": "Python 3",
   "language": "python",
   "name": "python3"
  },
  "language_info": {
   "codemirror_mode": {
    "name": "ipython",
    "version": 3
   },
   "file_extension": ".py",
   "mimetype": "text/x-python",
   "name": "python",
   "nbconvert_exporter": "python",
   "pygments_lexer": "ipython3",
   "version": "3.6.3"
  }
 },
 "nbformat": 4,
 "nbformat_minor": 2
}
