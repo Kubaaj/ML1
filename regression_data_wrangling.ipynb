{
 "cells": [
  {
   "cell_type": "markdown",
   "metadata": {},
   "source": [
    "# Data wrangling"
   ]
  },
  {
   "cell_type": "markdown",
   "metadata": {},
   "source": [
    "Process of data cleaning:"
   ]
  },
  {
   "cell_type": "code",
   "execution_count": 1,
   "metadata": {
    "colab": {},
    "colab_type": "code",
    "id": "-hEoREbFphTy"
   },
   "outputs": [],
   "source": [
    "import pandas as pd\n",
    "%matplotlib inline"
   ]
  },
  {
   "cell_type": "code",
   "execution_count": 2,
   "metadata": {
    "colab": {
     "base_uri": "https://localhost:8080/",
     "height": 404
    },
    "colab_type": "code",
    "id": "4VFbES1PphT2",
    "outputId": "ddeed3b5-41b8-422d-c7e9-b73c108909d9"
   },
   "outputs": [
    {
     "data": {
      "text/html": [
       "<div>\n",
       "<style scoped>\n",
       "    .dataframe tbody tr th:only-of-type {\n",
       "        vertical-align: middle;\n",
       "    }\n",
       "\n",
       "    .dataframe tbody tr th {\n",
       "        vertical-align: top;\n",
       "    }\n",
       "\n",
       "    .dataframe thead th {\n",
       "        text-align: right;\n",
       "    }\n",
       "</style>\n",
       "<table border=\"1\" class=\"dataframe\">\n",
       "  <thead>\n",
       "    <tr style=\"text-align: right;\">\n",
       "      <th></th>\n",
       "      <th>url</th>\n",
       "      <th>city</th>\n",
       "      <th>price</th>\n",
       "      <th>year</th>\n",
       "      <th>manufacturer</th>\n",
       "      <th>make</th>\n",
       "      <th>condition</th>\n",
       "      <th>cylinders</th>\n",
       "      <th>fuel</th>\n",
       "      <th>odometer</th>\n",
       "      <th>title_status</th>\n",
       "      <th>transmission</th>\n",
       "      <th>VIN</th>\n",
       "      <th>drive</th>\n",
       "      <th>size</th>\n",
       "      <th>type</th>\n",
       "      <th>paint_color</th>\n",
       "      <th>image_url</th>\n",
       "      <th>lat</th>\n",
       "      <th>long</th>\n",
       "    </tr>\n",
       "  </thead>\n",
       "  <tbody>\n",
       "    <tr>\n",
       "      <th>0</th>\n",
       "      <td>https://tricities.craigslist.org/cto/d/1978-br...</td>\n",
       "      <td>tricities</td>\n",
       "      <td>5000</td>\n",
       "      <td>1978.0</td>\n",
       "      <td>ford</td>\n",
       "      <td>bronco</td>\n",
       "      <td>NaN</td>\n",
       "      <td>NaN</td>\n",
       "      <td>gas</td>\n",
       "      <td>NaN</td>\n",
       "      <td>clean</td>\n",
       "      <td>automatic</td>\n",
       "      <td>NaN</td>\n",
       "      <td>NaN</td>\n",
       "      <td>NaN</td>\n",
       "      <td>NaN</td>\n",
       "      <td>NaN</td>\n",
       "      <td>https://images.craigslist.org/00r0r_eGnnFC1JNm...</td>\n",
       "      <td>37.132840</td>\n",
       "      <td>-95.785580</td>\n",
       "    </tr>\n",
       "    <tr>\n",
       "      <th>1</th>\n",
       "      <td>https://tricities.craigslist.org/cto/d/2008-bu...</td>\n",
       "      <td>tricities</td>\n",
       "      <td>5000</td>\n",
       "      <td>2008.0</td>\n",
       "      <td>buick</td>\n",
       "      <td>lucerne cxl v6</td>\n",
       "      <td>like new</td>\n",
       "      <td>6 cylinders</td>\n",
       "      <td>gas</td>\n",
       "      <td>51000.0</td>\n",
       "      <td>clean</td>\n",
       "      <td>automatic</td>\n",
       "      <td>NaN</td>\n",
       "      <td>fwd</td>\n",
       "      <td>full-size</td>\n",
       "      <td>sedan</td>\n",
       "      <td>grey</td>\n",
       "      <td>https://images.craigslist.org/00N0N_1LSHqLESW9...</td>\n",
       "      <td>35.777999</td>\n",
       "      <td>-83.612533</td>\n",
       "    </tr>\n",
       "    <tr>\n",
       "      <th>2</th>\n",
       "      <td>https://tricities.craigslist.org/cto/d/2006-po...</td>\n",
       "      <td>tricities</td>\n",
       "      <td>13500</td>\n",
       "      <td>2006.0</td>\n",
       "      <td>NaN</td>\n",
       "      <td>Pont GTO</td>\n",
       "      <td>excellent</td>\n",
       "      <td>8 cylinders</td>\n",
       "      <td>gas</td>\n",
       "      <td>93000.0</td>\n",
       "      <td>clean</td>\n",
       "      <td>automatic</td>\n",
       "      <td>NaN</td>\n",
       "      <td>rwd</td>\n",
       "      <td>mid-size</td>\n",
       "      <td>coupe</td>\n",
       "      <td>red</td>\n",
       "      <td>https://images.craigslist.org/00Y0Y_4cbEgS4prY...</td>\n",
       "      <td>36.333900</td>\n",
       "      <td>-82.340800</td>\n",
       "    </tr>\n",
       "    <tr>\n",
       "      <th>3</th>\n",
       "      <td>https://tricities.craigslist.org/cto/d/2006-me...</td>\n",
       "      <td>tricities</td>\n",
       "      <td>6200</td>\n",
       "      <td>2006.0</td>\n",
       "      <td>mercedes-benz</td>\n",
       "      <td>NaN</td>\n",
       "      <td>NaN</td>\n",
       "      <td>NaN</td>\n",
       "      <td>gas</td>\n",
       "      <td>NaN</td>\n",
       "      <td>rebuilt</td>\n",
       "      <td>automatic</td>\n",
       "      <td>NaN</td>\n",
       "      <td>NaN</td>\n",
       "      <td>NaN</td>\n",
       "      <td>NaN</td>\n",
       "      <td>NaN</td>\n",
       "      <td>https://images.craigslist.org/00T0T_fGLx4Ltazq...</td>\n",
       "      <td>36.000092</td>\n",
       "      <td>-84.018302</td>\n",
       "    </tr>\n",
       "    <tr>\n",
       "      <th>4</th>\n",
       "      <td>https://tricities.craigslist.org/cto/d/2016-fo...</td>\n",
       "      <td>tricities</td>\n",
       "      <td>37900</td>\n",
       "      <td>2016.0</td>\n",
       "      <td>ford</td>\n",
       "      <td>f350</td>\n",
       "      <td>excellent</td>\n",
       "      <td>8 cylinders</td>\n",
       "      <td>diesel</td>\n",
       "      <td>70500.0</td>\n",
       "      <td>clean</td>\n",
       "      <td>automatic</td>\n",
       "      <td>NaN</td>\n",
       "      <td>4wd</td>\n",
       "      <td>NaN</td>\n",
       "      <td>truck</td>\n",
       "      <td>white</td>\n",
       "      <td>https://images.craigslist.org/00k0k_ls78o6lwVq...</td>\n",
       "      <td>36.272932</td>\n",
       "      <td>-82.537537</td>\n",
       "    </tr>\n",
       "  </tbody>\n",
       "</table>\n",
       "</div>"
      ],
      "text/plain": [
       "                                                 url       city  price  \\\n",
       "0  https://tricities.craigslist.org/cto/d/1978-br...  tricities   5000   \n",
       "1  https://tricities.craigslist.org/cto/d/2008-bu...  tricities   5000   \n",
       "2  https://tricities.craigslist.org/cto/d/2006-po...  tricities  13500   \n",
       "3  https://tricities.craigslist.org/cto/d/2006-me...  tricities   6200   \n",
       "4  https://tricities.craigslist.org/cto/d/2016-fo...  tricities  37900   \n",
       "\n",
       "     year   manufacturer            make  condition    cylinders    fuel  \\\n",
       "0  1978.0           ford          bronco        NaN          NaN     gas   \n",
       "1  2008.0          buick  lucerne cxl v6   like new  6 cylinders     gas   \n",
       "2  2006.0            NaN        Pont GTO  excellent  8 cylinders     gas   \n",
       "3  2006.0  mercedes-benz             NaN        NaN          NaN     gas   \n",
       "4  2016.0           ford            f350  excellent  8 cylinders  diesel   \n",
       "\n",
       "   odometer title_status transmission  VIN drive       size   type  \\\n",
       "0       NaN        clean    automatic  NaN   NaN        NaN    NaN   \n",
       "1   51000.0        clean    automatic  NaN   fwd  full-size  sedan   \n",
       "2   93000.0        clean    automatic  NaN   rwd   mid-size  coupe   \n",
       "3       NaN      rebuilt    automatic  NaN   NaN        NaN    NaN   \n",
       "4   70500.0        clean    automatic  NaN   4wd        NaN  truck   \n",
       "\n",
       "  paint_color                                          image_url        lat  \\\n",
       "0         NaN  https://images.craigslist.org/00r0r_eGnnFC1JNm...  37.132840   \n",
       "1        grey  https://images.craigslist.org/00N0N_1LSHqLESW9...  35.777999   \n",
       "2         red  https://images.craigslist.org/00Y0Y_4cbEgS4prY...  36.333900   \n",
       "3         NaN  https://images.craigslist.org/00T0T_fGLx4Ltazq...  36.000092   \n",
       "4       white  https://images.craigslist.org/00k0k_ls78o6lwVq...  36.272932   \n",
       "\n",
       "        long  \n",
       "0 -95.785580  \n",
       "1 -83.612533  \n",
       "2 -82.340800  \n",
       "3 -84.018302  \n",
       "4 -82.537537  "
      ]
     },
     "execution_count": 2,
     "metadata": {},
     "output_type": "execute_result"
    }
   ],
   "source": [
    "path = \"craigslistVehicles.csv\"\n",
    "dfcars = pd.read_csv(path)\n",
    "dfcars.head()"
   ]
  },
  {
   "cell_type": "markdown",
   "metadata": {},
   "source": [
    "Removing unneccesary columns:"
   ]
  },
  {
   "cell_type": "code",
   "execution_count": 3,
   "metadata": {
    "colab": {},
    "colab_type": "code",
    "id": "jNcZoeLhphT6"
   },
   "outputs": [],
   "source": [
    "dfcars = dfcars.drop(['url', 'city', 'VIN', 'image_url'], axis=1)"
   ]
  },
  {
   "cell_type": "code",
   "execution_count": 4,
   "metadata": {
    "colab": {},
    "colab_type": "code",
    "id": "lm_lWMh8phT9",
    "outputId": "b6657a7f-14fe-42e7-9f3c-b830d8c5a1d8",
    "scrolled": true
   },
   "outputs": [
    {
     "data": {
      "text/plain": [
       "manufacturer\n",
       "ford               116051\n",
       "chevrolet          103722\n",
       "toyota              45266\n",
       "honda               34698\n",
       "nissan              31358\n",
       "dodge               30337\n",
       "jeep                29796\n",
       "gmc                 28033\n",
       "ram                 22908\n",
       "bmw                 16593\n",
       "volkswagen          15290\n",
       "hyundai             13444\n",
       "chrysler            12322\n",
       "mercedes-benz       12117\n",
       "subaru              11523\n",
       "cadillac             9963\n",
       "kia                  9766\n",
       "mazda                9132\n",
       "buick                9006\n",
       "pontiac              8590\n",
       "lexus                7711\n",
       "acura                6880\n",
       "audi                 5870\n",
       "lincoln              5060\n",
       "infiniti             4657\n",
       "volvo                4450\n",
       "mitsubishi           4187\n",
       "mercury              3993\n",
       "saturn               3479\n",
       "mini                 2450\n",
       "rover                2135\n",
       "jaguar               1694\n",
       "fiat                  823\n",
       "harley-davidson       371\n",
       "datsun                211\n",
       "ferrari               103\n",
       "alfa-romeo             91\n",
       "porche                 49\n",
       "land rover             45\n",
       "aston-martin           30\n",
       "morgan                  9\n",
       "noble                   1\n",
       "dtype: int64"
      ]
     },
     "execution_count": 4,
     "metadata": {},
     "output_type": "execute_result"
    }
   ],
   "source": [
    "dfcars.groupby(['manufacturer']).size().sort_values(ascending=False)"
   ]
  },
  {
   "cell_type": "markdown",
   "metadata": {},
   "source": [
    "We choose two the most frequently occuring manufacturers: ford and chevrolet."
   ]
  },
  {
   "cell_type": "code",
   "execution_count": 5,
   "metadata": {
    "colab": {},
    "colab_type": "code",
    "id": "9hpS6CmFphUB",
    "outputId": "d14d6fbd-76b5-4502-94be-cec262d7d6d5"
   },
   "outputs": [
    {
     "data": {
      "text/plain": [
       "price                0\n",
       "year                 0\n",
       "manufacturer         0\n",
       "make             10059\n",
       "condition        91842\n",
       "cylinders        88199\n",
       "fuel              2448\n",
       "odometer         76313\n",
       "title_status      1077\n",
       "transmission      1610\n",
       "drive            79850\n",
       "size            142186\n",
       "type             89548\n",
       "paint_color      88116\n",
       "lat               1974\n",
       "long              1974\n",
       "dtype: int64"
      ]
     },
     "execution_count": 5,
     "metadata": {},
     "output_type": "execute_result"
    }
   ],
   "source": [
    "dfcars = dfcars.loc[(dfcars['manufacturer'] == 'ford') | (dfcars['manufacturer'] == 'chevrolet')]\n",
    "dfcars.isna().sum()"
   ]
  },
  {
   "cell_type": "code",
   "execution_count": 6,
   "metadata": {
    "colab": {},
    "colab_type": "code",
    "id": "yb7Ajph5phUE",
    "outputId": "e00ab646-9302-4d60-c482-c5c5eb203c65"
   },
   "outputs": [
    {
     "name": "stdout",
     "output_type": "stream",
     "text": [
      "(219773, 16)\n"
     ]
    }
   ],
   "source": [
    "print(dfcars.shape)"
   ]
  },
  {
   "cell_type": "code",
   "execution_count": 7,
   "metadata": {
    "colab": {},
    "colab_type": "code",
    "id": "g7HeW8TiphUH"
   },
   "outputs": [],
   "source": [
    "dfcars = dfcars.rename(index=str, columns={\"size\": \"car_size\", \"type\": \"car_type\"})"
   ]
  },
  {
   "cell_type": "code",
   "execution_count": 8,
   "metadata": {
    "colab": {},
    "colab_type": "code",
    "id": "XbVggTc1phUK",
    "outputId": "1e67c99e-d02a-4d61-c10b-6453a847e7ce"
   },
   "outputs": [
    {
     "name": "stdout",
     "output_type": "stream",
     "text": [
      "(176506, 16)\n"
     ]
    }
   ],
   "source": [
    "dfcars = dfcars.dropna(subset=['make'])\n",
    "dfcars = dfcars.dropna(thresh=10) #Keep only the rows with at least 10 non-NA values. To discuss\n",
    "print(dfcars.shape)"
   ]
  },
  {
   "cell_type": "code",
   "execution_count": 9,
   "metadata": {
    "colab": {},
    "colab_type": "code",
    "id": "g5HdWtnwphUN",
    "outputId": "acb143a9-94e1-4e5b-fa9a-8344fc986f7c"
   },
   "outputs": [
    {
     "data": {
      "text/html": [
       "<div>\n",
       "<style scoped>\n",
       "    .dataframe tbody tr th:only-of-type {\n",
       "        vertical-align: middle;\n",
       "    }\n",
       "\n",
       "    .dataframe tbody tr th {\n",
       "        vertical-align: top;\n",
       "    }\n",
       "\n",
       "    .dataframe thead th {\n",
       "        text-align: right;\n",
       "    }\n",
       "</style>\n",
       "<table border=\"1\" class=\"dataframe\">\n",
       "  <thead>\n",
       "    <tr style=\"text-align: right;\">\n",
       "      <th></th>\n",
       "      <th>price</th>\n",
       "      <th>year</th>\n",
       "      <th>manufacturer</th>\n",
       "      <th>make</th>\n",
       "      <th>condition</th>\n",
       "      <th>cylinders</th>\n",
       "      <th>fuel</th>\n",
       "      <th>odometer</th>\n",
       "      <th>title_status</th>\n",
       "      <th>transmission</th>\n",
       "      <th>drive</th>\n",
       "      <th>car_size</th>\n",
       "      <th>car_type</th>\n",
       "      <th>paint_color</th>\n",
       "      <th>lat</th>\n",
       "      <th>long</th>\n",
       "    </tr>\n",
       "  </thead>\n",
       "  <tbody>\n",
       "    <tr>\n",
       "      <th>4</th>\n",
       "      <td>37900</td>\n",
       "      <td>2016.0</td>\n",
       "      <td>ford</td>\n",
       "      <td>f350</td>\n",
       "      <td>excellent</td>\n",
       "      <td>8 cylinders</td>\n",
       "      <td>diesel</td>\n",
       "      <td>70500.0</td>\n",
       "      <td>clean</td>\n",
       "      <td>automatic</td>\n",
       "      <td>4wd</td>\n",
       "      <td>NaN</td>\n",
       "      <td>truck</td>\n",
       "      <td>white</td>\n",
       "      <td>36.272932</td>\n",
       "      <td>-82.537537</td>\n",
       "    </tr>\n",
       "    <tr>\n",
       "      <th>7</th>\n",
       "      <td>5000</td>\n",
       "      <td>2003.0</td>\n",
       "      <td>chevrolet</td>\n",
       "      <td>silverado</td>\n",
       "      <td>like new</td>\n",
       "      <td>8 cylinders</td>\n",
       "      <td>gas</td>\n",
       "      <td>NaN</td>\n",
       "      <td>clean</td>\n",
       "      <td>automatic</td>\n",
       "      <td>NaN</td>\n",
       "      <td>NaN</td>\n",
       "      <td>NaN</td>\n",
       "      <td>NaN</td>\n",
       "      <td>36.344500</td>\n",
       "      <td>-82.201500</td>\n",
       "    </tr>\n",
       "    <tr>\n",
       "      <th>9</th>\n",
       "      <td>5950</td>\n",
       "      <td>2003.0</td>\n",
       "      <td>ford</td>\n",
       "      <td>expedition</td>\n",
       "      <td>excellent</td>\n",
       "      <td>8 cylinders</td>\n",
       "      <td>gas</td>\n",
       "      <td>141602.0</td>\n",
       "      <td>clean</td>\n",
       "      <td>automatic</td>\n",
       "      <td>4wd</td>\n",
       "      <td>full-size</td>\n",
       "      <td>SUV</td>\n",
       "      <td>green</td>\n",
       "      <td>37.286501</td>\n",
       "      <td>-80.056719</td>\n",
       "    </tr>\n",
       "    <tr>\n",
       "      <th>10</th>\n",
       "      <td>8950</td>\n",
       "      <td>2007.0</td>\n",
       "      <td>chevrolet</td>\n",
       "      <td>avalanche</td>\n",
       "      <td>excellent</td>\n",
       "      <td>8 cylinders</td>\n",
       "      <td>gas</td>\n",
       "      <td>205932.0</td>\n",
       "      <td>clean</td>\n",
       "      <td>automatic</td>\n",
       "      <td>rwd</td>\n",
       "      <td>full-size</td>\n",
       "      <td>SUV</td>\n",
       "      <td>black</td>\n",
       "      <td>37.286501</td>\n",
       "      <td>-80.056719</td>\n",
       "    </tr>\n",
       "    <tr>\n",
       "      <th>11</th>\n",
       "      <td>11950</td>\n",
       "      <td>2007.0</td>\n",
       "      <td>ford</td>\n",
       "      <td>f-150</td>\n",
       "      <td>excellent</td>\n",
       "      <td>8 cylinders</td>\n",
       "      <td>gas</td>\n",
       "      <td>77533.0</td>\n",
       "      <td>clean</td>\n",
       "      <td>automatic</td>\n",
       "      <td>4wd</td>\n",
       "      <td>full-size</td>\n",
       "      <td>truck</td>\n",
       "      <td>black</td>\n",
       "      <td>37.286501</td>\n",
       "      <td>-80.056719</td>\n",
       "    </tr>\n",
       "  </tbody>\n",
       "</table>\n",
       "</div>"
      ],
      "text/plain": [
       "    price    year manufacturer        make  condition    cylinders    fuel  \\\n",
       "4   37900  2016.0         ford        f350  excellent  8 cylinders  diesel   \n",
       "7    5000  2003.0    chevrolet   silverado   like new  8 cylinders     gas   \n",
       "9    5950  2003.0         ford  expedition  excellent  8 cylinders     gas   \n",
       "10   8950  2007.0    chevrolet   avalanche  excellent  8 cylinders     gas   \n",
       "11  11950  2007.0         ford       f-150  excellent  8 cylinders     gas   \n",
       "\n",
       "    odometer title_status transmission drive   car_size car_type paint_color  \\\n",
       "4    70500.0        clean    automatic   4wd        NaN    truck       white   \n",
       "7        NaN        clean    automatic   NaN        NaN      NaN         NaN   \n",
       "9   141602.0        clean    automatic   4wd  full-size      SUV       green   \n",
       "10  205932.0        clean    automatic   rwd  full-size      SUV       black   \n",
       "11   77533.0        clean    automatic   4wd  full-size    truck       black   \n",
       "\n",
       "          lat       long  \n",
       "4   36.272932 -82.537537  \n",
       "7   36.344500 -82.201500  \n",
       "9   37.286501 -80.056719  \n",
       "10  37.286501 -80.056719  \n",
       "11  37.286501 -80.056719  "
      ]
     },
     "execution_count": 9,
     "metadata": {},
     "output_type": "execute_result"
    }
   ],
   "source": [
    "dfcars.head()"
   ]
  },
  {
   "cell_type": "code",
   "execution_count": 10,
   "metadata": {
    "colab": {},
    "colab_type": "code",
    "id": "5xhGO7rjphUR",
    "outputId": "ceae690c-40ec-4f51-ef5c-55e85d328c2c",
    "scrolled": true
   },
   "outputs": [
    {
     "data": {
      "text/plain": [
       "price             int64\n",
       "year            float64\n",
       "manufacturer     object\n",
       "make             object\n",
       "condition        object\n",
       "cylinders        object\n",
       "fuel             object\n",
       "odometer        float64\n",
       "title_status     object\n",
       "transmission     object\n",
       "drive            object\n",
       "car_size         object\n",
       "car_type         object\n",
       "paint_color      object\n",
       "lat             float64\n",
       "long            float64\n",
       "dtype: object"
      ]
     },
     "execution_count": 10,
     "metadata": {},
     "output_type": "execute_result"
    }
   ],
   "source": [
    "dfcars.dtypes"
   ]
  },
  {
   "cell_type": "markdown",
   "metadata": {},
   "source": [
    "Column 'make' shows that many observations have mixed names for the same car model and require cleaning. What's more, we decide to limit values of 'make' to be greater than or equal to 100 - we want to use those car models, which are popular and  have at least 100 different offers."
   ]
  },
  {
   "cell_type": "code",
   "execution_count": 11,
   "metadata": {
    "colab": {},
    "colab_type": "code",
    "id": "X_loKgzVphUU",
    "outputId": "ab08a0a0-1d27-423b-b0d3-75faa7a1f7fd",
    "scrolled": true
   },
   "outputs": [
    {
     "name": "stdout",
     "output_type": "stream",
     "text": [
      "f-150                        7879\n",
      "silverado 1500               5895\n",
      "mustang                      4038\n",
      "silverado                    3598\n",
      "escape                       3309\n",
      "explorer                     3201\n",
      "f150                         2968\n",
      "tahoe                        2949\n",
      "f250                         2911\n",
      "impala                       2807\n",
      "1500 silverado               2658\n",
      "focus                        2642\n",
      "fusion                       2390\n",
      "corvette                     2387\n",
      "camaro                       2363\n",
      "malibu                       2303\n",
      "equinox                      2176\n",
      "ranger                       2122\n",
      "f-250                        2025\n",
      "f350                         1901\n",
      "cruze                        1775\n",
      "1500                         1767\n",
      "suburban                     1725\n",
      "edge                         1660\n",
      "silverado 2500hd             1601\n",
      "expedition                   1593\n",
      "taurus                       1499\n",
      "f150 4x4                     1427\n",
      "f-350                        1423\n",
      "traverse                     1241\n",
      "                             ... \n",
      "f350 xl - 11ft dump truck       1\n",
      "f150 step side                  1\n",
      "edge sport utility 4dr          1\n",
      "excursion xlt 4dr               1\n",
      "250- xlt                        1\n",
      "f250 super duty xl 2wd          1\n",
      "el dorado                       1\n",
      "f150 reg cab                    1\n",
      "f150 xlt 4wd 5.0l crew          1\n",
      "short                           1\n",
      "equniox                         1\n",
      "880 truck                       1\n",
      "del ray                         1\n",
      "volt fwd                        1\n",
      "superduty e350                  1\n",
      "covair greenbrier               1\n",
      "f350 2006                       1\n",
      "ranger step-side pickup         1\n",
      "van mark iii                    1\n",
      "cs3                             1\n",
      "xlt e350                        1\n",
      "explorer 4wd 4dr limited        1\n",
      "cst/10 truck                    1\n",
      "e150 xlt                        1\n",
      "r250                            1\n",
      "/ tahoe                         1\n",
      "cobalt 4dr ls                   1\n",
      "silverado ls 2500               1\n",
      "f150 xlt 5.4l                   1\n",
      "s-10 pick-up                    1\n",
      "Name: make, Length: 10654, dtype: int64\n"
     ]
    }
   ],
   "source": [
    "print(dfcars.make.value_counts())"
   ]
  },
  {
   "cell_type": "code",
   "execution_count": 12,
   "metadata": {},
   "outputs": [
    {
     "name": "stdout",
     "output_type": "stream",
     "text": [
      "(137830, 16)\n"
     ]
    }
   ],
   "source": [
    "dfcars['count'] = dfcars.groupby('make')['make'].transform('count')\n",
    "dfcars = dfcars.loc[(dfcars['count'] >= 100)] # limiting car models to have at least 100 offers\n",
    "del dfcars['count']\n",
    "print(dfcars.shape)"
   ]
  },
  {
   "cell_type": "code",
   "execution_count": 13,
   "metadata": {},
   "outputs": [
    {
     "name": "stdout",
     "output_type": "stream",
     "text": [
      "f-150                       7879\n",
      "silverado 1500              5895\n",
      "mustang                     4038\n",
      "silverado                   3598\n",
      "escape                      3309\n",
      "explorer                    3201\n",
      "f150                        2968\n",
      "tahoe                       2949\n",
      "f250                        2911\n",
      "impala                      2807\n",
      "1500 silverado              2658\n",
      "focus                       2642\n",
      "fusion                      2390\n",
      "corvette                    2387\n",
      "camaro                      2363\n",
      "malibu                      2303\n",
      "equinox                     2176\n",
      "ranger                      2122\n",
      "f-250                       2025\n",
      "f350                        1901\n",
      "cruze                       1775\n",
      "1500                        1767\n",
      "suburban                    1725\n",
      "edge                        1660\n",
      "silverado 2500hd            1601\n",
      "expedition                  1593\n",
      "taurus                      1499\n",
      "f150 4x4                    1427\n",
      "f-350                       1423\n",
      "traverse                    1241\n",
      "                            ... \n",
      "silverado z71                129\n",
      "mustang ecoboost premium     129\n",
      "corvette stingray            129\n",
      "windstar                     129\n",
      "astro van                    127\n",
      "fusion hybrid                125\n",
      "k10                          123\n",
      "express van                  123\n",
      "model a                      120\n",
      "cobalt ls                    119\n",
      "silverado 1500 double        117\n",
      "f150 supercrew cab xlt       116\n",
      "trailblazer ext              116\n",
      "colorado crew cab            115\n",
      "cruze limited                114\n",
      "e450                         114\n",
      "fusion s                     113\n",
      "van                          113\n",
      "camaro lt coupe 2d           113\n",
      "suburban ltz                 113\n",
      "mustang gt convertible       111\n",
      "belair                       111\n",
      "impala limited               110\n",
      "silverado 1500 ltz           110\n",
      "mustang gt premium           107\n",
      "falcon                       107\n",
      "f-150 4x4                    107\n",
      "focus sel                    106\n",
      "fiesta se                    104\n",
      "taurus ses                   100\n",
      "Name: make, Length: 209, dtype: int64\n"
     ]
    }
   ],
   "source": [
    "print(dfcars.make.value_counts())"
   ]
  },
  {
   "cell_type": "code",
   "execution_count": 14,
   "metadata": {},
   "outputs": [],
   "source": [
    "dfcars.loc[dfcars.make == \"1500 silverado\", \"make\"] = \"silverado 1500\"\n",
    "dfcars.loc[dfcars.make == \"2500 silverado\", \"make\"] = \"silverado 2500\"\n",
    "\n",
    "for i in [\"f 150\", \"f-150\", \"f - 150\", \"f -150\", \"f- 150\"]:\n",
    "    dfcars.loc[dfcars.make == i, \"make\"] = \"f150\"\n",
    "    \n",
    "dfcars.loc[dfcars.make == \"f-150 lariat\", \"make\"] = \"f150 lariat\"\n",
    "dfcars.loc[dfcars.make == \"f-150 xl\", \"make\"] = \"f150 xl\"\n",
    "dfcars.loc[dfcars.make == \"f-150 xlt\", \"make\"] = \"f150 xlt\"\n",
    "\n",
    "for i in [\"f-150 4 x 4\", \"f-150 4x4\", \"f-150 4 x4\"]:\n",
    "    dfcars.loc[dfcars.make == i, \"make\"] = \"f150 4x4\"\n",
    "\n",
    "for i in [\"f 250\", \"f-250\", \"f - 250\", \"f -250\", \"f- 250\"]:\n",
    "    dfcars.loc[dfcars.make == i, \"make\"] = \"f250\"\n",
    "    \n",
    "for i in [\"f 350\", \"f-350\", \"f - 350\", \"f -350\", \"f- 350\"]:\n",
    "    dfcars.loc[dfcars.make == i, \"make\"] = \"f350\"\n",
    "\n",
    "dfcars.loc[dfcars.make == \"f-450\", \"make\"] = \"f450\"\n",
    "dfcars.loc[dfcars.make == \"f-550\", \"make\"] = \"f550\"\n",
    "dfcars.loc[dfcars.make == \"s-10\", \"make\"] = \"s10\"\n",
    "\n",
    "dfcars.loc[dfcars.make == \"f-150 fx4\", \"make\"] = \"f150 fx4\"\n",
    "\n",
    "dfcars.loc[dfcars.make == \"2500 hd\", \"make\"] = \"2500hd\"\n",
    "\n",
    "for i in [\"f-250 super duty\", \"super duty f-250\", \"f-250 sd\", \"f-250sd\", \"f250 super duty\"]:\n",
    "    dfcars.loc[dfcars.make == i, \"make\"] = \"f250 sd\"\n",
    "\n",
    "for i in [\"f-350 sd\", \"f-350sd\", \"f-350 super duty\", \"f350 super duty\"]:\n",
    "    dfcars.loc[dfcars.make == i, \"make\"] = \"f350 sd\"\n",
    "\n",
    "dfcars.loc[dfcars.make == \"e-350\", \"make\"] = \"e350\"\n",
    "dfcars.loc[dfcars.make == \"e-450\", \"make\"] = \"e450\"\n",
    "\n",
    "dfcars.loc[dfcars.make == \"super duty f-350 drw\", \"make\"] = \"f350 sd drw\"\n",
    "dfcars.loc[dfcars.make == \"super duty f-350 srw\", \"make\"] = \"f350 sd srw\"\n",
    "dfcars.loc[dfcars.make == \"super duty f250 srw\", \"make\"] = \"f250 sd srw\"\n",
    "dfcars.loc[dfcars.make == \"super duty f-250 srw\", \"make\"] = \"f250 sd srw\""
   ]
  },
  {
   "cell_type": "code",
   "execution_count": 15,
   "metadata": {
    "scrolled": true
   },
   "outputs": [
    {
     "name": "stdout",
     "output_type": "stream",
     "text": [
      "f150                        11263\n",
      "silverado 1500               8553\n",
      "f250                         5069\n",
      "mustang                      4038\n",
      "silverado                    3598\n",
      "f350                         3465\n",
      "escape                       3309\n",
      "explorer                     3201\n",
      "tahoe                        2949\n",
      "impala                       2807\n",
      "focus                        2642\n",
      "fusion                       2390\n",
      "corvette                     2387\n",
      "camaro                       2363\n",
      "f250 sd                      2342\n",
      "malibu                       2303\n",
      "equinox                      2176\n",
      "ranger                       2122\n",
      "cruze                        1775\n",
      "1500                         1767\n",
      "f150 xlt                     1727\n",
      "suburban                     1725\n",
      "edge                         1660\n",
      "silverado 2500hd             1601\n",
      "expedition                   1593\n",
      "f150 4x4                     1534\n",
      "taurus                       1499\n",
      "traverse                     1241\n",
      "mustang gt                   1208\n",
      "focus se                     1197\n",
      "                            ...  \n",
      "bel air                       131\n",
      "lumina                        130\n",
      "corvette stingray             129\n",
      "mustang ecoboost premium      129\n",
      "windstar                      129\n",
      "silverado z71                 129\n",
      "astro van                     127\n",
      "fusion hybrid                 125\n",
      "k10                           123\n",
      "express van                   123\n",
      "model a                       120\n",
      "cobalt ls                     119\n",
      "silverado 1500 double         117\n",
      "f150 supercrew cab xlt        116\n",
      "trailblazer ext               116\n",
      "colorado crew cab             115\n",
      "cruze limited                 114\n",
      "camaro lt coupe 2d            113\n",
      "van                           113\n",
      "fusion s                      113\n",
      "suburban ltz                  113\n",
      "mustang gt convertible        111\n",
      "belair                        111\n",
      "impala limited                110\n",
      "silverado 1500 ltz            110\n",
      "falcon                        107\n",
      "mustang gt premium            107\n",
      "focus sel                     106\n",
      "fiesta se                     104\n",
      "taurus ses                    100\n",
      "Name: make, Length: 184, dtype: int64\n"
     ]
    }
   ],
   "source": [
    "print(dfcars.make.value_counts())"
   ]
  },
  {
   "cell_type": "markdown",
   "metadata": {},
   "source": [
    "We encode all variables to numeric categories:"
   ]
  },
  {
   "cell_type": "code",
   "execution_count": 16,
   "metadata": {
    "colab": {},
    "colab_type": "code",
    "id": "JAzNt_K4phUY",
    "outputId": "edb50507-f8af-40b4-ba65-a0387b44baf0"
   },
   "outputs": [
    {
     "name": "stdout",
     "output_type": "stream",
     "text": [
      "excellent    40702\n",
      "good         37365\n",
      "like new      8828\n",
      "fair          7826\n",
      "new            655\n",
      "salvage        510\n",
      "Name: condition, dtype: int64\n"
     ]
    }
   ],
   "source": [
    "print(dfcars.condition.value_counts())"
   ]
  },
  {
   "cell_type": "code",
   "execution_count": 17,
   "metadata": {
    "colab": {},
    "colab_type": "code",
    "id": "zm3UJreFphUb",
    "outputId": "8cf3df77-e63c-4bea-de3f-193b2263b53b"
   },
   "outputs": [
    {
     "name": "stdout",
     "output_type": "stream",
     "text": [
      "3.0    40702\n",
      "2.0    37365\n",
      "4.0     8828\n",
      "1.0     7826\n",
      "5.0      655\n",
      "0.0      510\n",
      "Name: condition, dtype: int64\n"
     ]
    }
   ],
   "source": [
    "condDict = {'new':5, 'like new':4, 'excellent':3, 'good':2,'fair':1, 'salvage':0}\n",
    "dfcars[\"condition\"]=dfcars.condition.map(condDict)\n",
    "print(dfcars.condition.value_counts())"
   ]
  },
  {
   "cell_type": "code",
   "execution_count": 18,
   "metadata": {
    "colab": {},
    "colab_type": "code",
    "id": "6woSvvJXphUf",
    "outputId": "900a5c51-89ee-4245-91c6-43eedaf7c797"
   },
   "outputs": [
    {
     "name": "stdout",
     "output_type": "stream",
     "text": [
      "8 cylinders     50060\n",
      "6 cylinders     27705\n",
      "4 cylinders     17192\n",
      "other            3963\n",
      "10 cylinders     1032\n",
      "5 cylinders       459\n",
      "3 cylinders        56\n",
      "12 cylinders        8\n",
      "Name: cylinders, dtype: int64\n"
     ]
    }
   ],
   "source": [
    "print(dfcars.cylinders.value_counts())"
   ]
  },
  {
   "cell_type": "code",
   "execution_count": 19,
   "metadata": {},
   "outputs": [
    {
     "data": {
      "text/plain": [
       "37355"
      ]
     },
     "execution_count": 19,
     "metadata": {},
     "output_type": "execute_result"
    }
   ],
   "source": [
    "dfcars['cylinders'].isna().sum()"
   ]
  },
  {
   "cell_type": "code",
   "execution_count": 20,
   "metadata": {
    "colab": {},
    "colab_type": "code",
    "id": "vzazr9NlphUn",
    "outputId": "344979db-2624-4bf7-b4db-da5970c2c006"
   },
   "outputs": [],
   "source": [
    "# #Zamiana other na 0 -> potem można jakoś MLowo wyznaczyć liczbę cylindrów gdy jest 0. \n",
    "# #Czy zamienić na coś 'missing'? Wtedy możnaby zamienić kolumnę na int\n",
    "# dfcars['cylinders'].loc[(dfcars['cylinders'] == 'other')] = 0\n",
    "# dfcars['cylinders'] = dfcars['cylinders'].str.extract('(\\d+)') #.astype(int).head()\n",
    "# dfcars['cylinders'] = dfcars['cylinders'].fillna('missing')"
   ]
  },
  {
   "cell_type": "code",
   "execution_count": 21,
   "metadata": {
    "colab": {},
    "colab_type": "code",
    "id": "wHfFY9cAphUr",
    "outputId": "492a8446-a45d-457d-ca29-05c95ec025ec"
   },
   "outputs": [
    {
     "name": "stdout",
     "output_type": "stream",
     "text": [
      "ford         73473\n",
      "chevrolet    64357\n",
      "Name: manufacturer, dtype: int64\n"
     ]
    }
   ],
   "source": [
    "print(dfcars.manufacturer.value_counts())"
   ]
  },
  {
   "cell_type": "code",
   "execution_count": 22,
   "metadata": {
    "colab": {},
    "colab_type": "code",
    "id": "bAak_0uaphUu",
    "outputId": "d8e5b254-f3ed-49b2-c756-85ff484ac63b"
   },
   "outputs": [
    {
     "name": "stdout",
     "output_type": "stream",
     "text": [
      "1    73473\n",
      "0    64357\n",
      "Name: manufacturer, dtype: int64\n"
     ]
    }
   ],
   "source": [
    "manDict = {'ford':1, 'chevrolet':0}\n",
    "dfcars[\"manufacturer\"]=dfcars.manufacturer.map(manDict)\n",
    "print(dfcars.manufacturer.value_counts())"
   ]
  },
  {
   "cell_type": "code",
   "execution_count": 23,
   "metadata": {
    "colab": {},
    "colab_type": "code",
    "id": "YOb3eXZ4phUy",
    "outputId": "f7940210-c7ab-49a6-9750-d319a5a57e85"
   },
   "outputs": [
    {
     "name": "stdout",
     "output_type": "stream",
     "text": [
      "gas         120075\n",
      "diesel       12388\n",
      "other         4500\n",
      "hybrid         386\n",
      "electric        49\n",
      "Name: fuel, dtype: int64\n"
     ]
    }
   ],
   "source": [
    "print(dfcars.fuel.value_counts())"
   ]
  },
  {
   "cell_type": "code",
   "execution_count": 24,
   "metadata": {},
   "outputs": [
    {
     "data": {
      "text/plain": [
       "432"
      ]
     },
     "execution_count": 24,
     "metadata": {},
     "output_type": "execute_result"
    }
   ],
   "source": [
    "dfcars.fuel.isna().sum()"
   ]
  },
  {
   "cell_type": "code",
   "execution_count": 25,
   "metadata": {
    "colab": {},
    "colab_type": "code",
    "id": "MlmixvrxphU3",
    "outputId": "8e1503ba-10db-4be2-9498-abb37310f626"
   },
   "outputs": [
    {
     "name": "stdout",
     "output_type": "stream",
     "text": [
      "3.0    120075\n",
      "2.0     12388\n",
      "1.0      4500\n",
      "0.0       435\n",
      "Name: fuel, dtype: int64\n"
     ]
    }
   ],
   "source": [
    "fuelDict = {'gas':3, 'diesel':2, 'other':1, 'hybrid':0, 'electric':0}\n",
    "dfcars[\"fuel\"]=dfcars.fuel.map(fuelDict)\n",
    "print(dfcars.fuel.value_counts())"
   ]
  },
  {
   "cell_type": "code",
   "execution_count": 26,
   "metadata": {
    "colab": {},
    "colab_type": "code",
    "id": "2vHjkasHphU6",
    "outputId": "4b66a1af-2217-4208-9124-ffc89156cb15",
    "scrolled": true
   },
   "outputs": [
    {
     "name": "stdout",
     "output_type": "stream",
     "text": [
      "clean         129428\n",
      "rebuilt         3474\n",
      "lien            2139\n",
      "salvage         1942\n",
      "missing          558\n",
      "parts only       225\n",
      "Name: title_status, dtype: int64\n"
     ]
    }
   ],
   "source": [
    "print(dfcars.title_status.value_counts())"
   ]
  },
  {
   "cell_type": "code",
   "execution_count": 27,
   "metadata": {},
   "outputs": [
    {
     "data": {
      "text/plain": [
       "64"
      ]
     },
     "execution_count": 27,
     "metadata": {},
     "output_type": "execute_result"
    }
   ],
   "source": [
    "dfcars.title_status.isna().sum()"
   ]
  },
  {
   "cell_type": "markdown",
   "metadata": {},
   "source": [
    "We remove \"parts only\" - we are interested in modeling price of cars, not parts of cars."
   ]
  },
  {
   "cell_type": "code",
   "execution_count": 28,
   "metadata": {},
   "outputs": [],
   "source": [
    "dfcars = dfcars[dfcars.title_status != \"parts only\"]"
   ]
  },
  {
   "cell_type": "code",
   "execution_count": 29,
   "metadata": {},
   "outputs": [
    {
     "name": "stdout",
     "output_type": "stream",
     "text": [
      "clean      129428\n",
      "rebuilt      3474\n",
      "lien         2139\n",
      "salvage      1942\n",
      "missing       558\n",
      "Name: title_status, dtype: int64\n"
     ]
    }
   ],
   "source": [
    "print(dfcars.title_status.value_counts())"
   ]
  },
  {
   "cell_type": "code",
   "execution_count": 30,
   "metadata": {
    "colab": {},
    "colab_type": "code",
    "id": "ikGcz7oFphU-",
    "outputId": "82c9c4d8-630c-4343-9d29-04beb8f687e5"
   },
   "outputs": [
    {
     "name": "stdout",
     "output_type": "stream",
     "text": [
      "4.0    129428\n",
      "3.0      3474\n",
      "2.0      2139\n",
      "1.0      1942\n",
      "0.0       558\n",
      "Name: title_status, dtype: int64\n"
     ]
    }
   ],
   "source": [
    "titleDict = {'clean':4, 'rebuilt':3, 'lien':2, 'salvage':1, 'missing':0}\n",
    "dfcars[\"title_status\"]=dfcars.title_status.map(titleDict)\n",
    "print(dfcars.title_status.value_counts())"
   ]
  },
  {
   "cell_type": "code",
   "execution_count": 31,
   "metadata": {
    "colab": {},
    "colab_type": "code",
    "id": "b2R3lceEphVB",
    "outputId": "99a002f8-aaeb-4338-f913-6fd6111ffab4"
   },
   "outputs": [
    {
     "name": "stdout",
     "output_type": "stream",
     "text": [
      "automatic    123898\n",
      "manual        11416\n",
      "other          1757\n",
      "Name: transmission, dtype: int64\n"
     ]
    }
   ],
   "source": [
    "print(dfcars.transmission.value_counts())"
   ]
  },
  {
   "cell_type": "code",
   "execution_count": 32,
   "metadata": {},
   "outputs": [
    {
     "data": {
      "text/plain": [
       "534"
      ]
     },
     "execution_count": 32,
     "metadata": {},
     "output_type": "execute_result"
    }
   ],
   "source": [
    "dfcars.transmission.isna().sum()"
   ]
  },
  {
   "cell_type": "code",
   "execution_count": 33,
   "metadata": {
    "colab": {},
    "colab_type": "code",
    "id": "U8SlIy8MphVD",
    "outputId": "1cd4a4a6-d3c0-4677-f4a1-a5f8ce1217e0"
   },
   "outputs": [
    {
     "name": "stdout",
     "output_type": "stream",
     "text": [
      "2.0    123898\n",
      "1.0     11416\n",
      "0.0      1757\n",
      "Name: transmission, dtype: int64\n"
     ]
    }
   ],
   "source": [
    "transDict = {'automatic':2, 'manual':1, 'other':0}\n",
    "dfcars[\"transmission\"]=dfcars.transmission.map(transDict)\n",
    "print(dfcars.transmission.value_counts())"
   ]
  },
  {
   "cell_type": "code",
   "execution_count": 34,
   "metadata": {
    "colab": {},
    "colab_type": "code",
    "id": "lORchFKvphVG",
    "outputId": "b1c84c3b-d70e-424b-e45f-415093057a89"
   },
   "outputs": [
    {
     "name": "stdout",
     "output_type": "stream",
     "text": [
      "4wd    50792\n",
      "rwd    28871\n",
      "fwd    25790\n",
      "Name: drive, dtype: int64\n"
     ]
    }
   ],
   "source": [
    "print(dfcars.drive.value_counts())"
   ]
  },
  {
   "cell_type": "code",
   "execution_count": 35,
   "metadata": {},
   "outputs": [
    {
     "data": {
      "text/plain": [
       "32152"
      ]
     },
     "execution_count": 35,
     "metadata": {},
     "output_type": "execute_result"
    }
   ],
   "source": [
    "dfcars.drive.isna().sum()"
   ]
  },
  {
   "cell_type": "code",
   "execution_count": 36,
   "metadata": {
    "colab": {},
    "colab_type": "code",
    "id": "velI-wqvphVI",
    "outputId": "acb273b1-4d36-4934-cd40-46741bc97611"
   },
   "outputs": [
    {
     "name": "stdout",
     "output_type": "stream",
     "text": [
      "2.0    50792\n",
      "1.0    28871\n",
      "0.0    25790\n",
      "Name: drive, dtype: int64\n"
     ]
    }
   ],
   "source": [
    "driveDict = {'4wd':2, 'rwd':1, 'fwd':0}\n",
    "dfcars[\"drive\"]=dfcars.drive.map(driveDict)\n",
    "print(dfcars.drive.value_counts())"
   ]
  },
  {
   "cell_type": "code",
   "execution_count": 37,
   "metadata": {
    "colab": {},
    "colab_type": "code",
    "id": "Ce_xTMeGphVL",
    "outputId": "1c4db1b7-3c60-4f33-9fd0-f8ad564ec758"
   },
   "outputs": [
    {
     "name": "stdout",
     "output_type": "stream",
     "text": [
      "full-size      38699\n",
      "mid-size       13479\n",
      "compact         5626\n",
      "sub-compact      972\n",
      "Name: car_size, dtype: int64\n"
     ]
    }
   ],
   "source": [
    "print(dfcars.car_size.value_counts())"
   ]
  },
  {
   "cell_type": "code",
   "execution_count": 38,
   "metadata": {},
   "outputs": [
    {
     "data": {
      "text/plain": [
       "78829"
      ]
     },
     "execution_count": 38,
     "metadata": {},
     "output_type": "execute_result"
    }
   ],
   "source": [
    "dfcars.car_size.isna().sum()"
   ]
  },
  {
   "cell_type": "code",
   "execution_count": 39,
   "metadata": {
    "colab": {},
    "colab_type": "code",
    "id": "SUPyOFUGphVN",
    "outputId": "1a24b6ee-e784-4dfb-9690-c053ad581fcb"
   },
   "outputs": [
    {
     "name": "stdout",
     "output_type": "stream",
     "text": [
      "3.0    38699\n",
      "2.0    13479\n",
      "1.0     5626\n",
      "0.0      972\n",
      "Name: car_size, dtype: int64\n"
     ]
    }
   ],
   "source": [
    "sizeDict = {'full-size':3, 'mid-size':2, 'compact':1, 'sub-compact':0}\n",
    "dfcars[\"car_size\"]=dfcars.car_size.map(sizeDict)\n",
    "print(dfcars.car_size.value_counts())"
   ]
  },
  {
   "cell_type": "code",
   "execution_count": 40,
   "metadata": {
    "colab": {},
    "colab_type": "code",
    "id": "pOCoPoAZphVP",
    "outputId": "73c03435-b528-41ae-845a-d9a03536d3d6"
   },
   "outputs": [
    {
     "name": "stdout",
     "output_type": "stream",
     "text": [
      "SUV            21912\n",
      "truck          21583\n",
      "pickup         20567\n",
      "sedan          16119\n",
      "coupe           7444\n",
      "van             2743\n",
      "convertible     2190\n",
      "hatchback       1892\n",
      "other           1466\n",
      "mini-van         711\n",
      "wagon            676\n",
      "bus              202\n",
      "offroad          199\n",
      "Name: car_type, dtype: int64\n"
     ]
    }
   ],
   "source": [
    "print(dfcars.car_type.value_counts())"
   ]
  },
  {
   "cell_type": "code",
   "execution_count": 41,
   "metadata": {},
   "outputs": [
    {
     "data": {
      "text/plain": [
       "39901"
      ]
     },
     "execution_count": 41,
     "metadata": {},
     "output_type": "execute_result"
    }
   ],
   "source": [
    "dfcars.car_type.isna().sum()"
   ]
  },
  {
   "cell_type": "code",
   "execution_count": 42,
   "metadata": {
    "colab": {},
    "colab_type": "code",
    "id": "57RaA31UphVS",
    "outputId": "31c822a5-f3bb-4410-8cce-56688e57f719"
   },
   "outputs": [
    {
     "name": "stdout",
     "output_type": "stream",
     "text": [
      "10.0    21912\n",
      "12.0    21583\n",
      "11.0    20567\n",
      "9.0     16119\n",
      "8.0      7444\n",
      "7.0      2743\n",
      "6.0      2190\n",
      "5.0      1892\n",
      "4.0      1466\n",
      "2.0       711\n",
      "3.0       676\n",
      "1.0       202\n",
      "0.0       199\n",
      "Name: car_type, dtype: int64\n"
     ]
    }
   ],
   "source": [
    "typeDict = {'truck':12, 'pickup':11, 'SUV':10, 'sedan':9, 'coupe':8, 'van':7, 'convertible':6, \n",
    "    'hatchback':5, 'other':4, 'wagon':3, 'mini-van':2, 'bus':1, 'offroad':0}\n",
    "dfcars[\"car_type\"]=dfcars.car_type.map(typeDict)\n",
    "print(dfcars.car_type.value_counts())"
   ]
  },
  {
   "cell_type": "code",
   "execution_count": 43,
   "metadata": {
    "colab": {},
    "colab_type": "code",
    "id": "kIRzqu7OphVU",
    "outputId": "cdda7d12-0c53-48e0-d816-577d29d5b288"
   },
   "outputs": [
    {
     "name": "stdout",
     "output_type": "stream",
     "text": [
      "white     26560\n",
      "black     17788\n",
      "red       13123\n",
      "silver    11031\n",
      "blue      11016\n",
      "grey       7810\n",
      "green      4194\n",
      "brown      2766\n",
      "custom     2410\n",
      "yellow     1123\n",
      "orange      672\n",
      "purple      320\n",
      "Name: paint_color, dtype: int64\n"
     ]
    }
   ],
   "source": [
    "print(dfcars.paint_color.value_counts())"
   ]
  },
  {
   "cell_type": "code",
   "execution_count": 44,
   "metadata": {},
   "outputs": [
    {
     "data": {
      "text/plain": [
       "38792"
      ]
     },
     "execution_count": 44,
     "metadata": {},
     "output_type": "execute_result"
    }
   ],
   "source": [
    "dfcars.paint_color.isna().sum()"
   ]
  },
  {
   "cell_type": "code",
   "execution_count": 45,
   "metadata": {
    "colab": {},
    "colab_type": "code",
    "id": "v3vbB5VZphVY",
    "outputId": "be3c0ffc-b277-4a59-e216-8a64de711e35"
   },
   "outputs": [
    {
     "name": "stdout",
     "output_type": "stream",
     "text": [
      "11.0    26560\n",
      "10.0    17788\n",
      "9.0     13123\n",
      "7.0     11031\n",
      "8.0     11016\n",
      "6.0      7810\n",
      "5.0      4194\n",
      "4.0      2766\n",
      "3.0      2410\n",
      "2.0      1123\n",
      "1.0       672\n",
      "0.0       320\n",
      "Name: paint_color, dtype: int64\n"
     ]
    }
   ],
   "source": [
    "colDict = {'white':11, 'black':10, 'red':9, 'blue':8, 'silver':7, 'grey':6, 'green':5, \n",
    "    'brown':4, 'custom':3, 'yellow':2, 'orange':1, 'purple':0}\n",
    "dfcars[\"paint_color\"]=dfcars.paint_color.map(colDict)\n",
    "print(dfcars.paint_color.value_counts())"
   ]
  },
  {
   "cell_type": "code",
   "execution_count": 46,
   "metadata": {
    "colab": {},
    "colab_type": "code",
    "id": "XhheMx6PphVb",
    "outputId": "1b3d16ab-a207-4523-e35a-23b2bd6a6c39"
   },
   "outputs": [
    {
     "data": {
      "text/html": [
       "<div>\n",
       "<style scoped>\n",
       "    .dataframe tbody tr th:only-of-type {\n",
       "        vertical-align: middle;\n",
       "    }\n",
       "\n",
       "    .dataframe tbody tr th {\n",
       "        vertical-align: top;\n",
       "    }\n",
       "\n",
       "    .dataframe thead th {\n",
       "        text-align: right;\n",
       "    }\n",
       "</style>\n",
       "<table border=\"1\" class=\"dataframe\">\n",
       "  <thead>\n",
       "    <tr style=\"text-align: right;\">\n",
       "      <th></th>\n",
       "      <th>price</th>\n",
       "      <th>year</th>\n",
       "      <th>manufacturer</th>\n",
       "      <th>condition</th>\n",
       "      <th>fuel</th>\n",
       "      <th>odometer</th>\n",
       "      <th>title_status</th>\n",
       "      <th>transmission</th>\n",
       "      <th>drive</th>\n",
       "      <th>car_size</th>\n",
       "      <th>car_type</th>\n",
       "      <th>paint_color</th>\n",
       "      <th>lat</th>\n",
       "      <th>long</th>\n",
       "    </tr>\n",
       "  </thead>\n",
       "  <tbody>\n",
       "    <tr>\n",
       "      <th>count</th>\n",
       "      <td>1.376050e+05</td>\n",
       "      <td>137605.000000</td>\n",
       "      <td>137605.000000</td>\n",
       "      <td>95713.000000</td>\n",
       "      <td>137173.000000</td>\n",
       "      <td>1.100270e+05</td>\n",
       "      <td>137541.000000</td>\n",
       "      <td>137071.000000</td>\n",
       "      <td>105453.000000</td>\n",
       "      <td>58776.000000</td>\n",
       "      <td>97704.000000</td>\n",
       "      <td>98813.000000</td>\n",
       "      <td>137162.000000</td>\n",
       "      <td>137162.000000</td>\n",
       "    </tr>\n",
       "    <tr>\n",
       "      <th>mean</th>\n",
       "      <td>4.882694e+05</td>\n",
       "      <td>2005.699073</td>\n",
       "      <td>0.533091</td>\n",
       "      <td>2.539195</td>\n",
       "      <td>2.834895</td>\n",
       "      <td>1.175769e+05</td>\n",
       "      <td>3.885052</td>\n",
       "      <td>1.891078</td>\n",
       "      <td>1.237091</td>\n",
       "      <td>2.529621</td>\n",
       "      <td>9.828595</td>\n",
       "      <td>8.526550</td>\n",
       "      <td>39.157519</td>\n",
       "      <td>-93.499500</td>\n",
       "    </tr>\n",
       "    <tr>\n",
       "      <th>std</th>\n",
       "      <td>4.173816e+07</td>\n",
       "      <td>10.746907</td>\n",
       "      <td>0.498906</td>\n",
       "      <td>0.815147</td>\n",
       "      <td>0.471374</td>\n",
       "      <td>1.173850e+05</td>\n",
       "      <td>0.515985</td>\n",
       "      <td>0.350278</td>\n",
       "      <td>0.818543</td>\n",
       "      <td>0.734707</td>\n",
       "      <td>2.084704</td>\n",
       "      <td>2.410772</td>\n",
       "      <td>5.970213</td>\n",
       "      <td>16.289318</td>\n",
       "    </tr>\n",
       "    <tr>\n",
       "      <th>min</th>\n",
       "      <td>1.000000e+00</td>\n",
       "      <td>1901.000000</td>\n",
       "      <td>0.000000</td>\n",
       "      <td>0.000000</td>\n",
       "      <td>0.000000</td>\n",
       "      <td>0.000000e+00</td>\n",
       "      <td>0.000000</td>\n",
       "      <td>0.000000</td>\n",
       "      <td>0.000000</td>\n",
       "      <td>0.000000</td>\n",
       "      <td>0.000000</td>\n",
       "      <td>0.000000</td>\n",
       "      <td>-84.810047</td>\n",
       "      <td>-179.252930</td>\n",
       "    </tr>\n",
       "    <tr>\n",
       "      <th>25%</th>\n",
       "      <td>3.950000e+03</td>\n",
       "      <td>2002.000000</td>\n",
       "      <td>0.000000</td>\n",
       "      <td>2.000000</td>\n",
       "      <td>3.000000</td>\n",
       "      <td>6.313300e+04</td>\n",
       "      <td>4.000000</td>\n",
       "      <td>2.000000</td>\n",
       "      <td>1.000000</td>\n",
       "      <td>2.000000</td>\n",
       "      <td>9.000000</td>\n",
       "      <td>7.000000</td>\n",
       "      <td>35.174714</td>\n",
       "      <td>-100.499481</td>\n",
       "    </tr>\n",
       "    <tr>\n",
       "      <th>50%</th>\n",
       "      <td>8.500000e+03</td>\n",
       "      <td>2008.000000</td>\n",
       "      <td>1.000000</td>\n",
       "      <td>3.000000</td>\n",
       "      <td>3.000000</td>\n",
       "      <td>1.120000e+05</td>\n",
       "      <td>4.000000</td>\n",
       "      <td>2.000000</td>\n",
       "      <td>1.000000</td>\n",
       "      <td>3.000000</td>\n",
       "      <td>10.000000</td>\n",
       "      <td>9.000000</td>\n",
       "      <td>39.764511</td>\n",
       "      <td>-88.761100</td>\n",
       "    </tr>\n",
       "    <tr>\n",
       "      <th>75%</th>\n",
       "      <td>1.699500e+04</td>\n",
       "      <td>2013.000000</td>\n",
       "      <td>1.000000</td>\n",
       "      <td>3.000000</td>\n",
       "      <td>3.000000</td>\n",
       "      <td>1.584620e+05</td>\n",
       "      <td>4.000000</td>\n",
       "      <td>2.000000</td>\n",
       "      <td>2.000000</td>\n",
       "      <td>3.000000</td>\n",
       "      <td>11.000000</td>\n",
       "      <td>11.000000</td>\n",
       "      <td>42.851055</td>\n",
       "      <td>-81.618767</td>\n",
       "    </tr>\n",
       "    <tr>\n",
       "      <th>max</th>\n",
       "      <td>4.211956e+09</td>\n",
       "      <td>2019.000000</td>\n",
       "      <td>1.000000</td>\n",
       "      <td>5.000000</td>\n",
       "      <td>3.000000</td>\n",
       "      <td>9.999999e+06</td>\n",
       "      <td>4.000000</td>\n",
       "      <td>2.000000</td>\n",
       "      <td>2.000000</td>\n",
       "      <td>3.000000</td>\n",
       "      <td>12.000000</td>\n",
       "      <td>11.000000</td>\n",
       "      <td>82.658264</td>\n",
       "      <td>26.744158</td>\n",
       "    </tr>\n",
       "  </tbody>\n",
       "</table>\n",
       "</div>"
      ],
      "text/plain": [
       "              price           year   manufacturer     condition  \\\n",
       "count  1.376050e+05  137605.000000  137605.000000  95713.000000   \n",
       "mean   4.882694e+05    2005.699073       0.533091      2.539195   \n",
       "std    4.173816e+07      10.746907       0.498906      0.815147   \n",
       "min    1.000000e+00    1901.000000       0.000000      0.000000   \n",
       "25%    3.950000e+03    2002.000000       0.000000      2.000000   \n",
       "50%    8.500000e+03    2008.000000       1.000000      3.000000   \n",
       "75%    1.699500e+04    2013.000000       1.000000      3.000000   \n",
       "max    4.211956e+09    2019.000000       1.000000      5.000000   \n",
       "\n",
       "                fuel      odometer   title_status   transmission  \\\n",
       "count  137173.000000  1.100270e+05  137541.000000  137071.000000   \n",
       "mean        2.834895  1.175769e+05       3.885052       1.891078   \n",
       "std         0.471374  1.173850e+05       0.515985       0.350278   \n",
       "min         0.000000  0.000000e+00       0.000000       0.000000   \n",
       "25%         3.000000  6.313300e+04       4.000000       2.000000   \n",
       "50%         3.000000  1.120000e+05       4.000000       2.000000   \n",
       "75%         3.000000  1.584620e+05       4.000000       2.000000   \n",
       "max         3.000000  9.999999e+06       4.000000       2.000000   \n",
       "\n",
       "               drive      car_size      car_type   paint_color            lat  \\\n",
       "count  105453.000000  58776.000000  97704.000000  98813.000000  137162.000000   \n",
       "mean        1.237091      2.529621      9.828595      8.526550      39.157519   \n",
       "std         0.818543      0.734707      2.084704      2.410772       5.970213   \n",
       "min         0.000000      0.000000      0.000000      0.000000     -84.810047   \n",
       "25%         1.000000      2.000000      9.000000      7.000000      35.174714   \n",
       "50%         1.000000      3.000000     10.000000      9.000000      39.764511   \n",
       "75%         2.000000      3.000000     11.000000     11.000000      42.851055   \n",
       "max         2.000000      3.000000     12.000000     11.000000      82.658264   \n",
       "\n",
       "                long  \n",
       "count  137162.000000  \n",
       "mean      -93.499500  \n",
       "std        16.289318  \n",
       "min      -179.252930  \n",
       "25%      -100.499481  \n",
       "50%       -88.761100  \n",
       "75%       -81.618767  \n",
       "max        26.744158  "
      ]
     },
     "execution_count": 46,
     "metadata": {},
     "output_type": "execute_result"
    }
   ],
   "source": [
    "dfcars.describe()"
   ]
  },
  {
   "cell_type": "code",
   "execution_count": 47,
   "metadata": {
    "colab": {},
    "colab_type": "code",
    "id": "4ck8xtvkphVf",
    "outputId": "abd906fb-7799-4825-a506-fa5e459957e1"
   },
   "outputs": [
    {
     "data": {
      "text/plain": [
       "<matplotlib.axes._subplots.AxesSubplot at 0x22f6a468908>"
      ]
     },
     "execution_count": 47,
     "metadata": {},
     "output_type": "execute_result"
    },
    {
     "data": {
      "image/png": "[encoded data removed]",
      "text/plain": [
       "<Figure size 432x288 with 1 Axes>"
      ]
     },
     "metadata": {
      "needs_background": "light"
     },
     "output_type": "display_data"
    }
   ],
   "source": [
    "dfcars.price.hist(bins=100)"
   ]
  },
  {
   "cell_type": "code",
   "execution_count": 48,
   "metadata": {
    "colab": {},
    "colab_type": "code",
    "id": "f0GiVgDNphVi"
   },
   "outputs": [],
   "source": [
    "dfcars.to_pickle(\"dfcars.p\")"
   ]
  },
  {
   "cell_type": "code",
   "execution_count": null,
   "metadata": {
    "colab": {},
    "colab_type": "code",
    "id": "4H_j_oO4phVk"
   },
   "outputs": [],
   "source": []
  },
  {
   "cell_type": "code",
   "execution_count": null,
   "metadata": {
    "colab": {},
    "colab_type": "code",
    "id": "lIoMl7DlphVm"
   },
   "outputs": [],
   "source": []
  }
 ],
 "metadata": {
  "colab": {
   "collapsed_sections": [],
   "name": "Small_dataset_clean.ipynb",
   "provenance": [],
   "version": "0.3.2"
  },
  "kernelspec": {
   "display_name": "Python 3",
   "language": "python",
   "name": "python3"
  },
  "language_info": {
   "codemirror_mode": {
    "name": "ipython",
    "version": 3
   },
   "file_extension": ".py",
   "mimetype": "text/x-python",
   "name": "python",
   "nbconvert_exporter": "python",
   "pygments_lexer": "ipython3",
   "version": "3.7.0"
  }
 },
 "nbformat": 4,
 "nbformat_minor": 1
}
